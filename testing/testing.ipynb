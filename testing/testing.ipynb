{
 "cells": [
  {
   "cell_type": "code",
   "execution_count": 51,
   "metadata": {},
   "outputs": [],
   "source": [
    "import pandas as pd\n",
    "import numpy as np\n",
    "import matplotlib.pyplot as plt"
   ]
  },
  {
   "cell_type": "code",
   "execution_count": 52,
   "metadata": {},
   "outputs": [],
   "source": [
    "labels_df = pd.read_parquet('./clean_device_names.parquet').fillna('')\n",
    "dns_df = pd.read_csv('./dns.csv').fillna('')\n",
    "feature_df = pd.read_csv('./device.csv').fillna('')\n",
    "port_df = pd.read_csv('./syn_scan_ports.csv')"
   ]
  },
  {
   "cell_type": "code",
   "execution_count": 53,
   "metadata": {},
   "outputs": [],
   "source": [
    "# make testing csv file\n",
    "feature_df.head(1000).to_csv('device_test.csv')"
   ]
  },
  {
   "cell_type": "markdown",
   "metadata": {},
   "source": [
    "### Data Analysis\n",
    "* sample number\n",
    "* feature analysis\n",
    "  * how many classes\n",
    "  * how many samples that's not `null`"
   ]
  },
  {
   "cell_type": "code",
   "execution_count": 54,
   "metadata": {},
   "outputs": [
    {
     "data": {
      "text/html": [
       "<div>\n",
       "<style scoped>\n",
       "    .dataframe tbody tr th:only-of-type {\n",
       "        vertical-align: middle;\n",
       "    }\n",
       "\n",
       "    .dataframe tbody tr th {\n",
       "        vertical-align: top;\n",
       "    }\n",
       "\n",
       "    .dataframe thead th {\n",
       "        text-align: right;\n",
       "    }\n",
       "</style>\n",
       "<table border=\"1\" class=\"dataframe\">\n",
       "  <thead>\n",
       "    <tr style=\"text-align: right;\">\n",
       "      <th></th>\n",
       "      <th>device_id</th>\n",
       "      <th>device_name</th>\n",
       "      <th>device_type</th>\n",
       "      <th>device_vendor</th>\n",
       "      <th>device_oui</th>\n",
       "      <th>dhcp_hostname</th>\n",
       "      <th>netdisco_device_info</th>\n",
       "      <th>user_key</th>\n",
       "    </tr>\n",
       "  </thead>\n",
       "  <tbody>\n",
       "    <tr>\n",
       "      <th>0</th>\n",
       "      <td>s2f7a763479</td>\n",
       "      <td>Pixel 2</td>\n",
       "      <td>Phone</td>\n",
       "      <td>Google</td>\n",
       "      <td>HTC Corporation</td>\n",
       "      <td></td>\n",
       "      <td>{}</td>\n",
       "      <td>269aa83b6b844cf11be44d6dbea28868</td>\n",
       "    </tr>\n",
       "    <tr>\n",
       "      <th>1</th>\n",
       "      <td>s069dfcecf1</td>\n",
       "      <td>ZP80</td>\n",
       "      <td>Music server</td>\n",
       "      <td>Sonos</td>\n",
       "      <td>Sonos, Inc.</td>\n",
       "      <td></td>\n",
       "      <td>{'ssdp_description': 'http://192.168.1.106:140...</td>\n",
       "      <td>121d5ed5e06b42f68bc2e621e76aa1f3</td>\n",
       "    </tr>\n",
       "    <tr>\n",
       "      <th>2</th>\n",
       "      <td>s5391507682</td>\n",
       "      <td>camera</td>\n",
       "      <td>Camera</td>\n",
       "      <td>WLAN</td>\n",
       "      <td>B-Link Electronic Limited</td>\n",
       "      <td></td>\n",
       "      <td>{}</td>\n",
       "      <td>121d5ed5e06b42f68bc2e621e76aa1f3</td>\n",
       "    </tr>\n",
       "    <tr>\n",
       "      <th>3</th>\n",
       "      <td>scbc253fdbc</td>\n",
       "      <td>DB2BCD</td>\n",
       "      <td>Irrigation controller</td>\n",
       "      <td>Rachio</td>\n",
       "      <td>AzureWave Technology Inc.</td>\n",
       "      <td></td>\n",
       "      <td>{}</td>\n",
       "      <td>121d5ed5e06b42f68bc2e621e76aa1f3</td>\n",
       "    </tr>\n",
       "    <tr>\n",
       "      <th>4</th>\n",
       "      <td>s0e81252086</td>\n",
       "      <td>Laserjet P1102W</td>\n",
       "      <td>Printer</td>\n",
       "      <td>HP</td>\n",
       "      <td>Hon Hai Precision Ind. Co.,Ltd.</td>\n",
       "      <td></td>\n",
       "      <td>{}</td>\n",
       "      <td>121d5ed5e06b42f68bc2e621e76aa1f3</td>\n",
       "    </tr>\n",
       "  </tbody>\n",
       "</table>\n",
       "</div>"
      ],
      "text/plain": [
       "     device_id      device_name            device_type device_vendor  \\\n",
       "0  s2f7a763479          Pixel 2                  Phone        Google   \n",
       "1  s069dfcecf1             ZP80           Music server         Sonos   \n",
       "2  s5391507682           camera                 Camera          WLAN   \n",
       "3  scbc253fdbc           DB2BCD  Irrigation controller        Rachio   \n",
       "4  s0e81252086  Laserjet P1102W                Printer            HP   \n",
       "\n",
       "                        device_oui dhcp_hostname  \\\n",
       "0                  HTC Corporation                 \n",
       "1                      Sonos, Inc.                 \n",
       "2        B-Link Electronic Limited                 \n",
       "3        AzureWave Technology Inc.                 \n",
       "4  Hon Hai Precision Ind. Co.,Ltd.                 \n",
       "\n",
       "                                netdisco_device_info  \\\n",
       "0                                                 {}   \n",
       "1  {'ssdp_description': 'http://192.168.1.106:140...   \n",
       "2                                                 {}   \n",
       "3                                                 {}   \n",
       "4                                                 {}   \n",
       "\n",
       "                           user_key  \n",
       "0  269aa83b6b844cf11be44d6dbea28868  \n",
       "1  121d5ed5e06b42f68bc2e621e76aa1f3  \n",
       "2  121d5ed5e06b42f68bc2e621e76aa1f3  \n",
       "3  121d5ed5e06b42f68bc2e621e76aa1f3  \n",
       "4  121d5ed5e06b42f68bc2e621e76aa1f3  "
      ]
     },
     "execution_count": 54,
     "metadata": {},
     "output_type": "execute_result"
    }
   ],
   "source": [
    "feature_df.head(5)"
   ]
  },
  {
   "cell_type": "code",
   "execution_count": 55,
   "metadata": {},
   "outputs": [
    {
     "name": "stdout",
     "output_type": "stream",
     "text": [
      "Feature dataframe samples: 15932\n"
     ]
    }
   ],
   "source": [
    "print('Feature dataframe samples:', len(feature_df))"
   ]
  },
  {
   "cell_type": "code",
   "execution_count": 56,
   "metadata": {},
   "outputs": [
    {
     "data": {
      "text/plain": [
       "Apple, Inc.                            1463\n",
       "                                       1417\n",
       "Google, Inc.                            903\n",
       "Amazon Technologies Inc.                880\n",
       "Sonos, Inc.                             515\n",
       "                                       ... \n",
       "Savant Systems LLC                        1\n",
       "PLUS  Corporation                         1\n",
       "vivo Mobile Communication Co., Ltd.       1\n",
       "ConversDigital Co., Ltd.                  1\n",
       "Universal Remote Control, Inc.            1\n",
       "Name: device_oui, Length: 592, dtype: int64"
      ]
     },
     "execution_count": 56,
     "metadata": {},
     "output_type": "execute_result"
    }
   ],
   "source": [
    "# device_type number of categories\n",
    "feature_df['device_oui'].value_counts()"
   ]
  },
  {
   "cell_type": "code",
   "execution_count": 57,
   "metadata": {},
   "outputs": [
    {
     "data": {
      "text/plain": [
       "Apple      1356\n",
       "Google     1293\n",
       "Amazon      945\n",
       "Samsung     524\n",
       "Sonos       397\n",
       "           ... \n",
       "verizon       1\n",
       "ASUSTOR       1\n",
       "sling         1\n",
       "GAGN          1\n",
       "Lenox         1\n",
       "Name: device_vendor, Length: 1730, dtype: int64"
      ]
     },
     "execution_count": 57,
     "metadata": {},
     "output_type": "execute_result"
    }
   ],
   "source": [
    "feature_df['device_vendor'].value_counts()"
   ]
  },
  {
   "cell_type": "code",
   "execution_count": 58,
   "metadata": {},
   "outputs": [],
   "source": [
    "# uncaptitalize vendors\n",
    "feature_df['device_vendor'] = feature_df['device_vendor'].apply(str.lower)"
   ]
  },
  {
   "cell_type": "code",
   "execution_count": 59,
   "metadata": {},
   "outputs": [
    {
     "data": {
      "text/html": [
       "<div>\n",
       "<style scoped>\n",
       "    .dataframe tbody tr th:only-of-type {\n",
       "        vertical-align: middle;\n",
       "    }\n",
       "\n",
       "    .dataframe tbody tr th {\n",
       "        vertical-align: top;\n",
       "    }\n",
       "\n",
       "    .dataframe thead th {\n",
       "        text-align: right;\n",
       "    }\n",
       "</style>\n",
       "<table border=\"1\" class=\"dataframe\">\n",
       "  <thead>\n",
       "    <tr style=\"text-align: right;\">\n",
       "      <th></th>\n",
       "      <th>device_id</th>\n",
       "      <th>device_vendor</th>\n",
       "      <th>device_name</th>\n",
       "    </tr>\n",
       "  </thead>\n",
       "  <tbody>\n",
       "    <tr>\n",
       "      <th>0</th>\n",
       "      <td>s67fbda64ef</td>\n",
       "      <td>amazon</td>\n",
       "      <td>echo</td>\n",
       "    </tr>\n",
       "    <tr>\n",
       "      <th>1</th>\n",
       "      <td>sf97a17203e</td>\n",
       "      <td>amazon</td>\n",
       "      <td>echo</td>\n",
       "    </tr>\n",
       "    <tr>\n",
       "      <th>2</th>\n",
       "      <td>s0c49160109</td>\n",
       "      <td>amazon</td>\n",
       "      <td>echo</td>\n",
       "    </tr>\n",
       "    <tr>\n",
       "      <th>3</th>\n",
       "      <td>s7711dea8a0</td>\n",
       "      <td>amazon</td>\n",
       "      <td>echo</td>\n",
       "    </tr>\n",
       "    <tr>\n",
       "      <th>4</th>\n",
       "      <td>sc8d6c3e4a7</td>\n",
       "      <td>amazon</td>\n",
       "      <td>echo</td>\n",
       "    </tr>\n",
       "  </tbody>\n",
       "</table>\n",
       "</div>"
      ],
      "text/plain": [
       "     device_id device_vendor device_name\n",
       "0  s67fbda64ef        amazon        echo\n",
       "1  sf97a17203e        amazon        echo\n",
       "2  s0c49160109        amazon        echo\n",
       "3  s7711dea8a0        amazon        echo\n",
       "4  sc8d6c3e4a7        amazon        echo"
      ]
     },
     "execution_count": 59,
     "metadata": {},
     "output_type": "execute_result"
    }
   ],
   "source": [
    "labels_df.head(5)"
   ]
  },
  {
   "cell_type": "code",
   "execution_count": 60,
   "metadata": {},
   "outputs": [
    {
     "data": {
      "text/plain": [
       "google      1871\n",
       "amazon      1492\n",
       "sonos        527\n",
       "philips      434\n",
       "tplink       415\n",
       "            ... \n",
       "vmware        10\n",
       "vera          10\n",
       "trendnet      10\n",
       "sky           10\n",
       "sharp         10\n",
       "Name: device_vendor, Length: 112, dtype: int64"
      ]
     },
     "execution_count": 60,
     "metadata": {},
     "output_type": "execute_result"
    }
   ],
   "source": [
    "# number of device vendors\n",
    "labels_df['device_vendor'].value_counts()"
   ]
  },
  {
   "cell_type": "code",
   "execution_count": null,
   "metadata": {},
   "outputs": [],
   "source": []
  },
  {
   "cell_type": "code",
   "execution_count": 61,
   "metadata": {},
   "outputs": [
    {
     "name": "stdout",
     "output_type": "stream",
     "text": [
      "Feature dataframe samples: 15932\n",
      "Label dataframe samples: 10920\n",
      "DNS dataframe samples: 412841\n"
     ]
    }
   ],
   "source": [
    "print('Feature dataframe samples:', len(feature_df))\n",
    "print('Label dataframe samples:', len(labels_df))\n",
    "print('DNS dataframe samples:', len(dns_df))"
   ]
  },
  {
   "cell_type": "markdown",
   "metadata": {},
   "source": [
    "The feature dataframe is different from the labels dataframe"
   ]
  },
  {
   "cell_type": "code",
   "execution_count": 62,
   "metadata": {},
   "outputs": [
    {
     "name": "stdout",
     "output_type": "stream",
     "text": [
      "Actual samples in both features and lables df: 9534\n"
     ]
    }
   ],
   "source": [
    "union = set(feature_df['device_id']) & set(labels_df['device_id'])\n",
    "print('Actual samples in both features and lables df:', len(union))"
   ]
  },
  {
   "cell_type": "code",
   "execution_count": 63,
   "metadata": {},
   "outputs": [
    {
     "name": "stdout",
     "output_type": "stream",
     "text": [
      "Unique dns devices: 37219\n"
     ]
    }
   ],
   "source": [
    "# unique dns devices\n",
    "print('Unique dns devices:', len(set(dns_df['device_id'])))"
   ]
  },
  {
   "cell_type": "code",
   "execution_count": 64,
   "metadata": {},
   "outputs": [
    {
     "data": {
      "text/html": [
       "<div>\n",
       "<style scoped>\n",
       "    .dataframe tbody tr th:only-of-type {\n",
       "        vertical-align: middle;\n",
       "    }\n",
       "\n",
       "    .dataframe tbody tr th {\n",
       "        vertical-align: top;\n",
       "    }\n",
       "\n",
       "    .dataframe thead th {\n",
       "        text-align: right;\n",
       "    }\n",
       "</style>\n",
       "<table border=\"1\" class=\"dataframe\">\n",
       "  <thead>\n",
       "    <tr style=\"text-align: right;\">\n",
       "      <th></th>\n",
       "      <th>device_id</th>\n",
       "      <th>hostname</th>\n",
       "    </tr>\n",
       "  </thead>\n",
       "  <tbody>\n",
       "    <tr>\n",
       "      <th>0</th>\n",
       "      <td>sb728a609e3</td>\n",
       "      <td>google.com</td>\n",
       "    </tr>\n",
       "    <tr>\n",
       "      <th>1</th>\n",
       "      <td>s929c53aa73</td>\n",
       "      <td>googleusercontent.com</td>\n",
       "    </tr>\n",
       "    <tr>\n",
       "      <th>2</th>\n",
       "      <td>sb728a609e3</td>\n",
       "      <td>gstatic.com</td>\n",
       "    </tr>\n",
       "    <tr>\n",
       "      <th>3</th>\n",
       "      <td>s929c53aa73</td>\n",
       "      <td>gstatic.com</td>\n",
       "    </tr>\n",
       "    <tr>\n",
       "      <th>4</th>\n",
       "      <td>s929c53aa73</td>\n",
       "      <td>google.com</td>\n",
       "    </tr>\n",
       "  </tbody>\n",
       "</table>\n",
       "</div>"
      ],
      "text/plain": [
       "     device_id               hostname\n",
       "0  sb728a609e3             google.com\n",
       "1  s929c53aa73  googleusercontent.com\n",
       "2  sb728a609e3            gstatic.com\n",
       "3  s929c53aa73            gstatic.com\n",
       "4  s929c53aa73             google.com"
      ]
     },
     "execution_count": 64,
     "metadata": {},
     "output_type": "execute_result"
    }
   ],
   "source": [
    "dns_df.head(5)"
   ]
  },
  {
   "cell_type": "code",
   "execution_count": 65,
   "metadata": {},
   "outputs": [
    {
     "name": "stdout",
     "output_type": "stream",
     "text": [
      "Unique port devices: 15304\n"
     ]
    }
   ],
   "source": [
    "# unique port devices\n",
    "print('Unique port devices:', len(set(port_df['device_id'])))"
   ]
  },
  {
   "cell_type": "code",
   "execution_count": 66,
   "metadata": {},
   "outputs": [
    {
     "name": "stdout",
     "output_type": "stream",
     "text": [
      "Actual samples in features, label, and dns df: 6442\n"
     ]
    }
   ],
   "source": [
    "union = set(feature_df['device_id']) & set(labels_df['device_id']) & set(dns_df['device_id'])\n",
    "print('Actual samples in features, label, and dns df:', len(union))"
   ]
  },
  {
   "cell_type": "code",
   "execution_count": 67,
   "metadata": {},
   "outputs": [
    {
     "name": "stdout",
     "output_type": "stream",
     "text": [
      "Feature samples with Netdisco info: 4615\n"
     ]
    }
   ],
   "source": [
    "# valid Netdisco entries in feature\n",
    "net_info = feature_df['netdisco_device_info']\n",
    "net_info = net_info.where(net_info != '{}').notnull()\n",
    "print('Feature samples with Netdisco info:', net_info.sum())"
   ]
  },
  {
   "cell_type": "code",
   "execution_count": 68,
   "metadata": {},
   "outputs": [
    {
     "name": "stdout",
     "output_type": "stream",
     "text": [
      "Dataframe with netdisco device info:\n"
     ]
    },
    {
     "data": {
      "text/html": [
       "<div>\n",
       "<style scoped>\n",
       "    .dataframe tbody tr th:only-of-type {\n",
       "        vertical-align: middle;\n",
       "    }\n",
       "\n",
       "    .dataframe tbody tr th {\n",
       "        vertical-align: top;\n",
       "    }\n",
       "\n",
       "    .dataframe thead th {\n",
       "        text-align: right;\n",
       "    }\n",
       "</style>\n",
       "<table border=\"1\" class=\"dataframe\">\n",
       "  <thead>\n",
       "    <tr style=\"text-align: right;\">\n",
       "      <th></th>\n",
       "      <th>device_id</th>\n",
       "      <th>device_name</th>\n",
       "      <th>device_type</th>\n",
       "      <th>device_vendor</th>\n",
       "      <th>device_oui</th>\n",
       "      <th>dhcp_hostname</th>\n",
       "      <th>netdisco_device_info</th>\n",
       "      <th>user_key</th>\n",
       "    </tr>\n",
       "  </thead>\n",
       "  <tbody>\n",
       "    <tr>\n",
       "      <th>1</th>\n",
       "      <td>s069dfcecf1</td>\n",
       "      <td>ZP80</td>\n",
       "      <td>Music server</td>\n",
       "      <td>sonos</td>\n",
       "      <td>Sonos, Inc.</td>\n",
       "      <td></td>\n",
       "      <td>{'ssdp_description': 'http://192.168.1.106:140...</td>\n",
       "      <td>121d5ed5e06b42f68bc2e621e76aa1f3</td>\n",
       "    </tr>\n",
       "    <tr>\n",
       "      <th>5</th>\n",
       "      <td>s53728fe968</td>\n",
       "      <td>Koogeek Switch</td>\n",
       "      <td>Smart Plug</td>\n",
       "      <td>koogeek</td>\n",
       "      <td>China Dragon Technology Limited</td>\n",
       "      <td></td>\n",
       "      <td>{'name': 'Koogeek-P1-77519D', 'hostname': 'hap...</td>\n",
       "      <td>d0e65960db07486ef774ec9de2739470</td>\n",
       "    </tr>\n",
       "    <tr>\n",
       "      <th>7</th>\n",
       "      <td>sf7c4b01cd5</td>\n",
       "      <td>TRADFRI gateway</td>\n",
       "      <td>IOT gateway</td>\n",
       "      <td>ikea</td>\n",
       "      <td>Murata Manufacturing Co., Ltd.</td>\n",
       "      <td></td>\n",
       "      <td>{'name': 'TRADFRI gateway', 'hostname': 'TRADF...</td>\n",
       "      <td>d0e65960db07486ef774ec9de2739470</td>\n",
       "    </tr>\n",
       "    <tr>\n",
       "      <th>9</th>\n",
       "      <td>sa25da41547</td>\n",
       "      <td>Lyric</td>\n",
       "      <td>Thermostat</td>\n",
       "      <td>honeywell</td>\n",
       "      <td>ADEMCO</td>\n",
       "      <td></td>\n",
       "      <td>{'name': 'LyricStatA1F7CD', 'hostname': 'Lyric...</td>\n",
       "      <td>121d5ed5e06b42f68bc2e621e76aa1f3</td>\n",
       "    </tr>\n",
       "    <tr>\n",
       "      <th>19</th>\n",
       "      <td>sc4a556b8eb</td>\n",
       "      <td>Apple TV</td>\n",
       "      <td>TV Stick</td>\n",
       "      <td>apple</td>\n",
       "      <td>Apple, Inc.</td>\n",
       "      <td></td>\n",
       "      <td>{'name': 'Apple TV Radcliffe', 'hostname': 'Ap...</td>\n",
       "      <td>fe510c48934c4861b6d1c8442d75cc57</td>\n",
       "    </tr>\n",
       "  </tbody>\n",
       "</table>\n",
       "</div>"
      ],
      "text/plain": [
       "      device_id      device_name   device_type device_vendor  \\\n",
       "1   s069dfcecf1             ZP80  Music server         sonos   \n",
       "5   s53728fe968   Koogeek Switch    Smart Plug       koogeek   \n",
       "7   sf7c4b01cd5  TRADFRI gateway   IOT gateway          ikea   \n",
       "9   sa25da41547            Lyric    Thermostat     honeywell   \n",
       "19  sc4a556b8eb         Apple TV      TV Stick         apple   \n",
       "\n",
       "                         device_oui dhcp_hostname  \\\n",
       "1                       Sonos, Inc.                 \n",
       "5   China Dragon Technology Limited                 \n",
       "7    Murata Manufacturing Co., Ltd.                 \n",
       "9                            ADEMCO                 \n",
       "19                      Apple, Inc.                 \n",
       "\n",
       "                                 netdisco_device_info  \\\n",
       "1   {'ssdp_description': 'http://192.168.1.106:140...   \n",
       "5   {'name': 'Koogeek-P1-77519D', 'hostname': 'hap...   \n",
       "7   {'name': 'TRADFRI gateway', 'hostname': 'TRADF...   \n",
       "9   {'name': 'LyricStatA1F7CD', 'hostname': 'Lyric...   \n",
       "19  {'name': 'Apple TV Radcliffe', 'hostname': 'Ap...   \n",
       "\n",
       "                            user_key  \n",
       "1   121d5ed5e06b42f68bc2e621e76aa1f3  \n",
       "5   d0e65960db07486ef774ec9de2739470  \n",
       "7   d0e65960db07486ef774ec9de2739470  \n",
       "9   121d5ed5e06b42f68bc2e621e76aa1f3  \n",
       "19  fe510c48934c4861b6d1c8442d75cc57  "
      ]
     },
     "execution_count": 68,
     "metadata": {},
     "output_type": "execute_result"
    }
   ],
   "source": [
    "net_df = feature_df.iloc[[i for i in range(len(net_info)) if net_info.iloc[i] == True]]\n",
    "print('Dataframe with netdisco device info:')\n",
    "net_df.head(5)"
   ]
  },
  {
   "cell_type": "code",
   "execution_count": 69,
   "metadata": {},
   "outputs": [
    {
     "name": "stdout",
     "output_type": "stream",
     "text": [
      "Actual samples in features, label, with netdisco info: 3539\n"
     ]
    }
   ],
   "source": [
    "union = set(net_df['device_id']) & set(labels_df['device_id']) \n",
    "print('Actual samples in features, label, with netdisco info:', len(union))"
   ]
  },
  {
   "cell_type": "markdown",
   "metadata": {},
   "source": [
    "### Data Analysis Conclusion\n",
    "* Total samples for use: 9534\n",
    "* Total samples with dns data: 6442\n",
    "* Total samples with netdisco infor: 3539\n"
   ]
  },
  {
   "cell_type": "markdown",
   "metadata": {},
   "source": [
    "Create dataframe with actual samples we can use"
   ]
  },
  {
   "cell_type": "code",
   "execution_count": 70,
   "metadata": {},
   "outputs": [
    {
     "data": {
      "text/html": [
       "<div>\n",
       "<style scoped>\n",
       "    .dataframe tbody tr th:only-of-type {\n",
       "        vertical-align: middle;\n",
       "    }\n",
       "\n",
       "    .dataframe tbody tr th {\n",
       "        vertical-align: top;\n",
       "    }\n",
       "\n",
       "    .dataframe thead th {\n",
       "        text-align: right;\n",
       "    }\n",
       "</style>\n",
       "<table border=\"1\" class=\"dataframe\">\n",
       "  <thead>\n",
       "    <tr style=\"text-align: right;\">\n",
       "      <th></th>\n",
       "      <th>device_id</th>\n",
       "      <th>device_name_x</th>\n",
       "      <th>device_type</th>\n",
       "      <th>device_vendor_x</th>\n",
       "      <th>device_oui</th>\n",
       "      <th>dhcp_hostname</th>\n",
       "      <th>netdisco_device_info</th>\n",
       "      <th>user_key</th>\n",
       "      <th>device_vendor_y</th>\n",
       "      <th>device_name_y</th>\n",
       "    </tr>\n",
       "  </thead>\n",
       "  <tbody>\n",
       "    <tr>\n",
       "      <th>0</th>\n",
       "      <td>scbc253fdbc</td>\n",
       "      <td>DB2BCD</td>\n",
       "      <td>Irrigation controller</td>\n",
       "      <td>rachio</td>\n",
       "      <td>AzureWave Technology Inc.</td>\n",
       "      <td></td>\n",
       "      <td>{}</td>\n",
       "      <td>121d5ed5e06b42f68bc2e621e76aa1f3</td>\n",
       "      <td>rachio</td>\n",
       "      <td>controller</td>\n",
       "    </tr>\n",
       "    <tr>\n",
       "      <th>1</th>\n",
       "      <td>s0e81252086</td>\n",
       "      <td>Laserjet P1102W</td>\n",
       "      <td>Printer</td>\n",
       "      <td>hp</td>\n",
       "      <td>Hon Hai Precision Ind. Co.,Ltd.</td>\n",
       "      <td></td>\n",
       "      <td>{}</td>\n",
       "      <td>121d5ed5e06b42f68bc2e621e76aa1f3</td>\n",
       "      <td>hp</td>\n",
       "      <td>printer</td>\n",
       "    </tr>\n",
       "    <tr>\n",
       "      <th>2</th>\n",
       "      <td>s53728fe968</td>\n",
       "      <td>Koogeek Switch</td>\n",
       "      <td>Smart Plug</td>\n",
       "      <td>koogeek</td>\n",
       "      <td>China Dragon Technology Limited</td>\n",
       "      <td></td>\n",
       "      <td>{'name': 'Koogeek-P1-77519D', 'hostname': 'hap...</td>\n",
       "      <td>d0e65960db07486ef774ec9de2739470</td>\n",
       "      <td>koogeek</td>\n",
       "      <td>switch</td>\n",
       "    </tr>\n",
       "    <tr>\n",
       "      <th>3</th>\n",
       "      <td>s1de01f07f6</td>\n",
       "      <td>Amazon Fire Stick</td>\n",
       "      <td>TV Stick</td>\n",
       "      <td>amazon</td>\n",
       "      <td>Amazon Technologies Inc.</td>\n",
       "      <td></td>\n",
       "      <td>{}</td>\n",
       "      <td>d0e65960db07486ef774ec9de2739470</td>\n",
       "      <td>amazon</td>\n",
       "      <td>fire</td>\n",
       "    </tr>\n",
       "    <tr>\n",
       "      <th>4</th>\n",
       "      <td>sf7c4b01cd5</td>\n",
       "      <td>TRADFRI gateway</td>\n",
       "      <td>IOT gateway</td>\n",
       "      <td>ikea</td>\n",
       "      <td>Murata Manufacturing Co., Ltd.</td>\n",
       "      <td></td>\n",
       "      <td>{'name': 'TRADFRI gateway', 'hostname': 'TRADF...</td>\n",
       "      <td>d0e65960db07486ef774ec9de2739470</td>\n",
       "      <td>ikea</td>\n",
       "      <td>tradfri</td>\n",
       "    </tr>\n",
       "  </tbody>\n",
       "</table>\n",
       "</div>"
      ],
      "text/plain": [
       "     device_id      device_name_x            device_type device_vendor_x  \\\n",
       "0  scbc253fdbc             DB2BCD  Irrigation controller          rachio   \n",
       "1  s0e81252086    Laserjet P1102W                Printer              hp   \n",
       "2  s53728fe968     Koogeek Switch             Smart Plug         koogeek   \n",
       "3  s1de01f07f6  Amazon Fire Stick               TV Stick          amazon   \n",
       "4  sf7c4b01cd5    TRADFRI gateway            IOT gateway            ikea   \n",
       "\n",
       "                        device_oui dhcp_hostname  \\\n",
       "0        AzureWave Technology Inc.                 \n",
       "1  Hon Hai Precision Ind. Co.,Ltd.                 \n",
       "2  China Dragon Technology Limited                 \n",
       "3         Amazon Technologies Inc.                 \n",
       "4   Murata Manufacturing Co., Ltd.                 \n",
       "\n",
       "                                netdisco_device_info  \\\n",
       "0                                                 {}   \n",
       "1                                                 {}   \n",
       "2  {'name': 'Koogeek-P1-77519D', 'hostname': 'hap...   \n",
       "3                                                 {}   \n",
       "4  {'name': 'TRADFRI gateway', 'hostname': 'TRADF...   \n",
       "\n",
       "                           user_key device_vendor_y device_name_y  \n",
       "0  121d5ed5e06b42f68bc2e621e76aa1f3          rachio    controller  \n",
       "1  121d5ed5e06b42f68bc2e621e76aa1f3              hp       printer  \n",
       "2  d0e65960db07486ef774ec9de2739470         koogeek        switch  \n",
       "3  d0e65960db07486ef774ec9de2739470          amazon          fire  \n",
       "4  d0e65960db07486ef774ec9de2739470            ikea       tradfri  "
      ]
     },
     "execution_count": 70,
     "metadata": {},
     "output_type": "execute_result"
    }
   ],
   "source": [
    "act_df = pd.merge(feature_df, labels_df, how='inner', on=['device_id'])\n",
    "act_df.head(5)"
   ]
  },
  {
   "cell_type": "markdown",
   "metadata": {},
   "source": [
    "### Classification with only OUI"
   ]
  },
  {
   "cell_type": "code",
   "execution_count": 71,
   "metadata": {},
   "outputs": [],
   "source": [
    "from sklearn.naive_bayes import MultinomialNB\n",
    "from sklearn.pipeline import make_pipeline\n",
    "from sklearn.feature_extraction.text import CountVectorizer\n",
    "from sklearn.model_selection import train_test_split\n"
   ]
  },
  {
   "cell_type": "code",
   "execution_count": 72,
   "metadata": {},
   "outputs": [],
   "source": [
    "X = np.array(act_df['device_oui'])\n",
    "y = np.array(act_df['device_vendor_y'])\n",
    "X_train, X_test, y_train, y_test = train_test_split(X, y, test_size=0.2)\n",
    "vectorizer = CountVectorizer(analyzer = 'word', token_pattern='.+')"
   ]
  },
  {
   "cell_type": "code",
   "execution_count": 73,
   "metadata": {},
   "outputs": [
    {
     "name": "stderr",
     "output_type": "stream",
     "text": [
      "C:\\Users\\willi\\anaconda3\\lib\\site-packages\\sklearn\\utils\\deprecation.py:87: FutureWarning: Function get_feature_names is deprecated; get_feature_names is deprecated in 1.0 and will be removed in 1.2. Please use get_feature_names_out instead.\n",
      "  warnings.warn(msg, category=FutureWarning)\n"
     ]
    },
    {
     "data": {
      "text/plain": [
       "['abocom',\n",
       " 'ademco',\n",
       " 'alertme.com limited',\n",
       " 'alpha networks inc.',\n",
       " 'amazon technologies inc.',\n",
       " 'amcrest technologies',\n",
       " 'american power conversion corp',\n",
       " 'ampak technology, inc.',\n",
       " 'apc by schneider electric',\n",
       " 'apple, inc.',\n",
       " 'arcadyan corporation',\n",
       " 'arcadyan technology corporation',\n",
       " 'arris group, inc.',\n",
       " 'aruba networks',\n",
       " 'asix electronics corp.',\n",
       " 'askey computer corp',\n",
       " 'asustek computer inc.',\n",
       " 'atheros communications, inc.',\n",
       " 'avm audiovisuelles marketing und computersysteme gmbh',\n",
       " 'avm gmbh',\n",
       " 'axis communications ab',\n",
       " 'azurewave technology inc.',\n",
       " 'b-link electronic limited',\n",
       " 'beijing xiaomi electronics co., ltd.',\n",
       " 'belkin international inc.',\n",
       " 'bose corporation',\n",
       " 'broadlink pty ltd',\n",
       " 'brother industries, ltd.',\n",
       " 'bskyb ltd',\n",
       " 'canary connect, inc.',\n",
       " 'canon inc.',\n",
       " 'chameleon technology (uk) limited',\n",
       " 'chicony electronics co., ltd.',\n",
       " 'china dragon technology limited',\n",
       " 'cisco meraki',\n",
       " 'cisco spvtg',\n",
       " 'cisco systems inc',\n",
       " 'cisco systems, inc',\n",
       " 'cisco-linksys, llc',\n",
       " 'cloud network technology (samoa) limited',\n",
       " 'compex systems pte ltd',\n",
       " 'd&m holdings inc.',\n",
       " 'd-link corporation',\n",
       " 'd-link international',\n",
       " 'data robotics, incorporated',\n",
       " 'datel electronics',\n",
       " 'delta electronics',\n",
       " 'digiboard',\n",
       " 'digital monitoring products, inc.',\n",
       " 'dish technologies corp',\n",
       " 'dropcam',\n",
       " 'dyson limited',\n",
       " 'echostar global b.v.',\n",
       " 'eco plugs enterprise co., ltd',\n",
       " 'ecobee inc',\n",
       " 'edimax technology co. ltd.',\n",
       " 'eero inc.',\n",
       " 'electric imp, incorporated',\n",
       " 'elitegroup computer systems co.,ltd.',\n",
       " 'espressif inc.',\n",
       " 'everspring industry co., ltd.',\n",
       " 'flextronics international',\n",
       " 'fn-link technology limited',\n",
       " 'frontier silicon ltd',\n",
       " 'gainspan corp.',\n",
       " 'google, inc.',\n",
       " 'grandstream networks, inc.',\n",
       " 'greennet technologies co.,ltd.',\n",
       " 'grid connect inc.',\n",
       " 'hangzhou gubei electronics technology co.,ltd',\n",
       " 'hangzhou hikvision digital technology co.,ltd.',\n",
       " 'hewlett packard',\n",
       " 'hewlett packard enterprise',\n",
       " 'hi-flying electronics technology co.,ltd',\n",
       " 'hon hai precision ind. co., ltd.',\n",
       " 'hon hai precision ind. co.,ltd.',\n",
       " 'honeywell hommed',\n",
       " 'hpn supply chain',\n",
       " 'htc corporation',\n",
       " 'hui zhou gaoshengda technology co.,ltd',\n",
       " 'humax co., ltd.',\n",
       " 'icp electronics inc.',\n",
       " 'idevices, llc',\n",
       " 'ieee registration authority',\n",
       " 'intel corporate',\n",
       " 'irobot corporation',\n",
       " 'ismart alarm, inc.',\n",
       " 'ittim technologies',\n",
       " 'kerlink',\n",
       " 'kingjon digital technology co.,ltd',\n",
       " 'leedarson lighting co., ltd.',\n",
       " 'leviton manufacturing co., inc.',\n",
       " 'lg electronics',\n",
       " 'lg electronics (mobile communications)',\n",
       " 'lg electronics inc',\n",
       " 'lg innotek',\n",
       " 'lifi labs management pty ltd',\n",
       " 'liteon technology corporation',\n",
       " 'logitech',\n",
       " 'lsd science and technology co.,ltd.',\n",
       " 'lt security inc',\n",
       " 'lutron electronics co., inc.',\n",
       " 'luxshare precision industry company limited',\n",
       " 'metrohm ag',\n",
       " 'microchip technology inc.',\n",
       " 'mitac international corp.',\n",
       " 'mitsumi electric co.,ltd.',\n",
       " 'murata manufacturing co., ltd.',\n",
       " 'nest labs inc.',\n",
       " 'netatmo',\n",
       " 'netgear',\n",
       " 'nintendo co., ltd.',\n",
       " 'nintendo co.,ltd',\n",
       " 'nova electronics (shanghai) co., ltd.',\n",
       " 'novell, inc.',\n",
       " 'nuvo technologies llc',\n",
       " 'nvidia',\n",
       " 'obihai technology, inc.',\n",
       " 'oj-electronics a/s',\n",
       " 'onkyo corporation',\n",
       " 'ooma, inc.',\n",
       " 'orbit irrigation',\n",
       " 'osram gmbh',\n",
       " 'panasonic appliances company',\n",
       " 'panasonic communications co., ltd.',\n",
       " 'panasonic corporation avc networks company',\n",
       " 'parrot sa',\n",
       " 'pegatron corporation',\n",
       " 'philips electronics nederland bv',\n",
       " 'philips lighting bv',\n",
       " 'phorus',\n",
       " 'physical graph corporation',\n",
       " 'pioneer corporation',\n",
       " 'pitronot technologies and engineering p.t.e. ltd.',\n",
       " 'private',\n",
       " 'qingdao hisense communications co.,ltd.',\n",
       " 'qnap systems, inc.',\n",
       " 'quanta computer inc.',\n",
       " 'quanta microsystems,inc.',\n",
       " 'raspberry pi foundation',\n",
       " 'realtek semiconductor corp.',\n",
       " 'redpine signals, inc.',\n",
       " 'ring solutions',\n",
       " 'roku, inc',\n",
       " 'roku, inc.',\n",
       " 'salcomp (shenzhen) co., ltd.',\n",
       " 'samjin co., ltd.',\n",
       " 'samsung electro mechanics co., ltd.',\n",
       " 'samsung electro-mechanics(thailand)',\n",
       " 'samsung electronics',\n",
       " 'samsung electronics co., ltd.',\n",
       " 'samsung electronics co.,ltd',\n",
       " 'seiko epson corporation',\n",
       " 'select comfort',\n",
       " 'sercomm corporation.',\n",
       " 'shanghai high-flying electronics technology co., ltd',\n",
       " 'shanghai xiaoyi technology co., ltd.',\n",
       " 'shenzhen baichuan digital technology co., ltd.',\n",
       " 'shenzhen bilian electronic co.,ltd',\n",
       " 'shenzhen bilian electronic co.，ltd',\n",
       " 'shenzhen forcelink electronic co, ltd',\n",
       " 'shenzhen fuzhi software technology co.,ltd',\n",
       " 'shenzhen gongjin electronics co.,lt',\n",
       " 'shenzhen ogemray technology co., ltd.',\n",
       " 'shenzhen reecam tech.ltd.',\n",
       " 'shenzhen rf technology co., ltd',\n",
       " 'shenzhen rf-link technology co.,ltd.',\n",
       " 'shenzhen smarteye digital electronics co., ltd',\n",
       " 'shenzhen tcl new technology co., ltd',\n",
       " 'shenzhen tong bo wei technology co.,ltd',\n",
       " 'shenzhen zowee technology co., ltd',\n",
       " 'sichuan changhong electric ltd.',\n",
       " 'silex technology, inc.',\n",
       " 'silicondust engineering ltd',\n",
       " 'skybell, inc',\n",
       " 'slim devices, inc.',\n",
       " 'smart innovation llc',\n",
       " 'smarthome',\n",
       " 'smartthings, inc.',\n",
       " 'solaredge technologies',\n",
       " 'sonos, inc.',\n",
       " 'sony corporation',\n",
       " 'sony interactive entertainment inc.',\n",
       " 'sony visual products inc.',\n",
       " 'streamunlimited engineering gmbh',\n",
       " 'synology incorporated',\n",
       " 'tado gmbh',\n",
       " 'taiyo yuden co., ltd.',\n",
       " 'taiyo yuden co.,ltd',\n",
       " 'tatung technology inc.',\n",
       " 'tcl king electrical appliances (huizhou) co., ltd',\n",
       " 'tcl technoly electronics (huizhou) co., ltd.',\n",
       " 'technicolor ch usa inc.',\n",
       " 'telebit communications aps',\n",
       " 'tercel technology co.,ltd',\n",
       " 'texas instruments',\n",
       " 'the chamberlain group, inc',\n",
       " 'tivo',\n",
       " 'top victory electronics (taiwan) co., ltd.',\n",
       " 'tp-link technologies co.,ltd.',\n",
       " 'trendnet, inc.',\n",
       " 'ubiquiti networks inc.',\n",
       " 'universal global scientific industrial co., ltd.',\n",
       " 'via networking technologies, inc.',\n",
       " 'vizio, inc',\n",
       " 'vmware, inc.',\n",
       " 'western digital',\n",
       " 'western digital corporation',\n",
       " 'wilife, inc.',\n",
       " 'winsystems, inc.',\n",
       " 'wistron neweb corporation',\n",
       " 'withings',\n",
       " 'xerox corporation',\n",
       " 'xiamen yealink network technology co.,ltd',\n",
       " 'xiaomi communications co ltd',\n",
       " 'xiaomi electronics,co.,ltd',\n",
       " 'yamaha corporation',\n",
       " 'zhejiang dahua technology co., ltd.']"
      ]
     },
     "execution_count": 73,
     "metadata": {},
     "output_type": "execute_result"
    }
   ],
   "source": [
    "X_train = vectorizer.fit_transform(X_train)\n",
    "vectorizer.get_feature_names()"
   ]
  },
  {
   "cell_type": "code",
   "execution_count": 74,
   "metadata": {},
   "outputs": [
    {
     "data": {
      "text/plain": [
       "MultinomialNB()"
      ]
     },
     "execution_count": 74,
     "metadata": {},
     "output_type": "execute_result"
    }
   ],
   "source": [
    "# train\n",
    "model = MultinomialNB()\n",
    "model.fit(X_train, y_train)"
   ]
  },
  {
   "cell_type": "code",
   "execution_count": 75,
   "metadata": {},
   "outputs": [
    {
     "data": {
      "text/plain": [
       "0.7713686418458311"
      ]
     },
     "execution_count": 75,
     "metadata": {},
     "output_type": "execute_result"
    }
   ],
   "source": [
    "# test\n",
    "X_test = vectorizer.transform(X_test)\n",
    "model.score(X_test, y_test)"
   ]
  },
  {
   "cell_type": "code",
   "execution_count": 76,
   "metadata": {},
   "outputs": [
    {
     "data": {
      "text/plain": [
       "array(['amazon'], dtype='<U17')"
      ]
     },
     "execution_count": 76,
     "metadata": {},
     "output_type": "execute_result"
    }
   ],
   "source": [
    "# Big Problem. Cannot classify Apple Inc\n",
    "model.predict(vectorizer.transform(['Apple, Inc.']))"
   ]
  },
  {
   "cell_type": "code",
   "execution_count": 77,
   "metadata": {},
   "outputs": [
    {
     "name": "stdout",
     "output_type": "stream",
     "text": [
      "There are 1463 devices with OUI \"Apple, Inc.\" in original feature dataframe\n",
      "There are only 12 devices with OUI \"Apple, Inc.\" in actual dataframe\n"
     ]
    }
   ],
   "source": [
    "# Here's Why\n",
    "b = feature_df.loc[feature_df['device_oui'] == 'Apple, Inc.']\n",
    "print('There are {} devices with OUI \"Apple, Inc.\" in original feature dataframe'.format(len(b)))\n",
    "b = act_df.loc[act_df['device_oui'] == 'Apple, Inc.']\n",
    "print('There are only {} devices with OUI \"Apple, Inc.\" in actual dataframe'.format(len(b)))\n"
   ]
  },
  {
   "cell_type": "markdown",
   "metadata": {},
   "source": [
    "Alternative: Stick to feature dataframe instead, which has more samples"
   ]
  },
  {
   "cell_type": "code",
   "execution_count": 78,
   "metadata": {},
   "outputs": [],
   "source": [
    "X = np.array(feature_df['device_oui'])\n",
    "y = np.array(feature_df['device_vendor'])\n",
    "X_train, X_test, y_train, y_test = train_test_split(X, y, test_size=0.2)"
   ]
  },
  {
   "cell_type": "code",
   "execution_count": 79,
   "metadata": {},
   "outputs": [
    {
     "name": "stderr",
     "output_type": "stream",
     "text": [
      "C:\\Users\\willi\\anaconda3\\lib\\site-packages\\sklearn\\utils\\deprecation.py:87: FutureWarning: Function get_feature_names is deprecated; get_feature_names is deprecated in 1.0 and will be removed in 1.2. Please use get_feature_names_out instead.\n",
      "  warnings.warn(msg, category=FutureWarning)\n"
     ]
    },
    {
     "data": {
      "text/plain": [
       "['2n telekomunikace a.s.',\n",
       " '2wire inc',\n",
       " '7hugs labs',\n",
       " 'aaeon technology inc.',\n",
       " 'abocom',\n",
       " 'actions microelectronics co., ltd',\n",
       " 'actiontec electronics, inc',\n",
       " 'ademco',\n",
       " 'adtran inc',\n",
       " 'advanced digital broadcast sa',\n",
       " 'advantech co., ltd.',\n",
       " 'airties wireless networks',\n",
       " 'airvana, inc.',\n",
       " 'alertme.com limited',\n",
       " 'alpha networks inc.',\n",
       " 'alpha technologies, inc.',\n",
       " 'amazon technologies inc.',\n",
       " 'amcrest technologies',\n",
       " 'american power conversion corp',\n",
       " 'ampak technology, inc.',\n",
       " 'andon health co.,ltd.',\n",
       " 'apc by schneider electric',\n",
       " 'apple, inc.',\n",
       " 'arcadyan corporation',\n",
       " 'arcadyan technology corporation',\n",
       " 'arcelik a.s',\n",
       " 'arris group, inc.',\n",
       " 'aruba networks',\n",
       " 'asia pacific microsystems , inc.',\n",
       " 'asix electronics corp.',\n",
       " 'askey computer corp',\n",
       " 'asrock incorporation',\n",
       " 'asustek computer inc.',\n",
       " 'atheros communications, inc.',\n",
       " 'avm audiovisuelles marketing und computersysteme gmbh',\n",
       " 'avm gmbh',\n",
       " 'axis communications ab',\n",
       " 'azurewave technologies (shanghai) inc.',\n",
       " 'azurewave technology inc.',\n",
       " 'b&w group ltd',\n",
       " 'b-link electronic limited',\n",
       " 'bang & olufsen a/s',\n",
       " 'barnes&noble',\n",
       " 'beck ipc gmbh',\n",
       " 'beijing xiaomi electronics co., ltd.',\n",
       " 'belkin international inc.',\n",
       " 'bencent tzeng industry co., ltd.',\n",
       " 'benu networks, inc.',\n",
       " 'beyondwiz co., ltd.',\n",
       " 'binatone electronics international, ltd',\n",
       " \"biostar microtech int'l corp.\",\n",
       " 'bizlink (kunshan) co.,ltd',\n",
       " 'blackberry rts',\n",
       " 'bluegiga technologies oy',\n",
       " 'bose corporation',\n",
       " 'bq',\n",
       " 'broadlink pty ltd',\n",
       " 'brocade communications systems, inc.',\n",
       " 'brother industries, ltd.',\n",
       " 'bsh hausgeräte gmbh',\n",
       " 'bskyb ltd',\n",
       " 'bticino spa',\n",
       " 'buffalo.inc',\n",
       " 'c2 development, inc.',\n",
       " 'cameo communications, inc.',\n",
       " 'canary connect, inc.',\n",
       " 'canon inc.',\n",
       " 'cc&c technologies, inc',\n",
       " 'chameleon technology (uk) limited',\n",
       " 'chaney instrument co.',\n",
       " 'chelsio communications',\n",
       " 'chicony electronics co., ltd.',\n",
       " 'china dragon technology limited',\n",
       " 'chiun mai communication systems, inc',\n",
       " 'cimsys inc',\n",
       " 'circle media inc',\n",
       " 'cisco meraki',\n",
       " 'cisco spvtg',\n",
       " 'cisco systems inc',\n",
       " 'cisco systems, inc',\n",
       " 'cisco-linksys, llc',\n",
       " 'climax technology co., ltd',\n",
       " 'cloud network technology (samoa) limited',\n",
       " 'compal information (kunshan) co., ltd.',\n",
       " 'compex systems pte ltd',\n",
       " 'compulab, ltd.',\n",
       " 'connected data, inc.',\n",
       " 'contemporary control',\n",
       " 'control4',\n",
       " 'conversdigital co., ltd.',\n",
       " 'corintech ltd.',\n",
       " 'coulomb technologies',\n",
       " 'cyber-rain, inc.',\n",
       " 'cyberpower systems, inc.',\n",
       " 'cybertan technology inc.',\n",
       " 'd&m holdings inc.',\n",
       " 'd-link corporation',\n",
       " 'd-link international',\n",
       " 'data robotics, incorporated',\n",
       " 'datawire communication networks inc.',\n",
       " 'davicom semiconductor, inc.',\n",
       " 'davis instruments, inc.',\n",
       " 'dell inc.',\n",
       " 'delta electronics',\n",
       " 'devialet',\n",
       " 'devolo ag',\n",
       " 'dexatek technology ltd.',\n",
       " 'diamond multimedia',\n",
       " 'dicna control ab',\n",
       " 'digiboard',\n",
       " 'digital monitoring products, inc.',\n",
       " 'discovergy gmbh',\n",
       " 'dish technologies corp',\n",
       " 'draytek corp.',\n",
       " 'dream-multimedia-tv gmbh',\n",
       " 'dropcam',\n",
       " 'dyson limited',\n",
       " 'earda technologies co ltd',\n",
       " 'echostar global b.v.',\n",
       " 'eco plugs enterprise co., ltd',\n",
       " 'ecobee inc',\n",
       " 'edimax technology co. ltd.',\n",
       " 'edup international (hk) co., ltd',\n",
       " 'eero inc.',\n",
       " 'electric imp, incorporated',\n",
       " 'electronic solutions, inc.',\n",
       " 'elgato systems llc',\n",
       " 'elitegroup computer systems co., ltd',\n",
       " 'elitegroup computer systems co.,ltd.',\n",
       " 'elster gmbh',\n",
       " 'ember corporation',\n",
       " 'energy, inc.',\n",
       " 'enphase energy',\n",
       " 'envisacor technologies inc.',\n",
       " 'epigram, inc.',\n",
       " 'eq-3 entwicklung gmbh',\n",
       " 'espressif inc.',\n",
       " 'essential products, inc.',\n",
       " 'euro protection surveillance',\n",
       " 'everspring industry co., ltd.',\n",
       " 'evga corporation',\n",
       " 'f & s elektronik systeme gmbh',\n",
       " 'fa. gira',\n",
       " 'facebook inc',\n",
       " 'fdt technologies',\n",
       " 'fibar group sp. z o.o.',\n",
       " 'fitbit inc.',\n",
       " 'flextronics international',\n",
       " 'flir systems',\n",
       " 'fn-link technology limited',\n",
       " 'focus h&s co., ltd.',\n",
       " 'fon technology s.l.',\n",
       " 'forgetbox',\n",
       " 'fortinet, inc.',\n",
       " 'foxconn',\n",
       " 'freebox sas',\n",
       " 'frontier silicon ltd',\n",
       " 'fuji-xerox co. ltd.',\n",
       " 'fujian landi commercial equipment co.,ltd',\n",
       " 'fujitsu technology solutions gmbh',\n",
       " 'fullpower technologies, inc.',\n",
       " 'funai electric co., ltd.',\n",
       " 'g-pro computer',\n",
       " 'gainspan corp.',\n",
       " 'gemtek technology co., ltd.',\n",
       " 'general electric consumer and industrial',\n",
       " 'geovision inc.',\n",
       " 'giga-byte technology co.,ltd.',\n",
       " 'gigaset communications gmbh',\n",
       " 'global cache',\n",
       " 'goldline controls',\n",
       " 'good way ind. co., ltd.',\n",
       " 'goodman corporation',\n",
       " 'google, inc.',\n",
       " 'grandstream networks, inc.',\n",
       " 'greennet technologies co.,ltd.',\n",
       " 'greenwave reality inc',\n",
       " 'grid connect inc.',\n",
       " 'h&d wireless',\n",
       " 'haier group technologies ltd',\n",
       " 'hangzhou aixiangji technology co., ltd',\n",
       " 'hangzhou gubei electronics technology co.,ltd',\n",
       " 'hangzhou hikvision digital technology co.,ltd.',\n",
       " 'hangzhou konke technology co.,ltd.',\n",
       " 'hansong tehnologies',\n",
       " 'hewlett packard',\n",
       " 'hewlett packard enterprise',\n",
       " 'hi-flying electronics technology co.,ltd',\n",
       " 'hisense electric co.,ltd',\n",
       " 'hitron technologies. inc',\n",
       " 'hitron technology, inc.',\n",
       " 'hmd global oy',\n",
       " 'hon hai precision ind. co., ltd.',\n",
       " 'hon hai precision ind. co.,ltd.',\n",
       " 'honeywell hommed',\n",
       " 'hong kong wheatek technology limited',\n",
       " 'hongkong yunlink technology limited',\n",
       " 'hpn supply chain',\n",
       " 'htc corporation',\n",
       " 'huawei technologies co.,ltd',\n",
       " 'hui zhou gaoshengda technology co.,ltd',\n",
       " 'humax co., ltd.',\n",
       " 'husqvarna ab',\n",
       " 'hybroad vision (hong kong) technology co ltd',\n",
       " 'i-o data device, inc.',\n",
       " 'icp electronics inc.',\n",
       " 'icp internet communication payment ag',\n",
       " 'idevices, llc',\n",
       " 'ieee registration authority',\n",
       " 'innomedia, inc.',\n",
       " 'inpro comm',\n",
       " 'insight energy ventures llc',\n",
       " 'intel corporate',\n",
       " 'intelbras',\n",
       " 'invensys',\n",
       " 'inventec corporation',\n",
       " 'inventek systems',\n",
       " 'invoxia',\n",
       " 'irobot corporation',\n",
       " 'iskra transmission d.d.',\n",
       " 'ismart alarm, inc.',\n",
       " 'iton technology limited',\n",
       " 'ittim technologies',\n",
       " 'jinan jovision science & technology co., ltd.',\n",
       " 'jump industrielle computertechnik gmbh',\n",
       " 'june life inc',\n",
       " 'ka-ro electronics gmbh',\n",
       " 'kaonmedia co., ltd.',\n",
       " 'king champion (hong kong) limited',\n",
       " 'kingjon digital technology co.,ltd',\n",
       " 'kohler co',\n",
       " 'konica minolta holdings, inc.',\n",
       " 'konka group co., ltd.',\n",
       " 'kostal industrie elektrik gmbh',\n",
       " 'kreatel communications ab',\n",
       " 'la cie group s.a.',\n",
       " 'la crosse technology ltd',\n",
       " 'lantronix',\n",
       " 'lcfc(hefei) electronics technology co., ltd',\n",
       " 'leedarson lighting co., ltd.',\n",
       " 'leeo inc',\n",
       " 'legra systems, inc.',\n",
       " 'legrand',\n",
       " 'lenbrook industries limited',\n",
       " 'lenovo (beijing) co., ltd.',\n",
       " 'lenovo mobile communication technology ltd.',\n",
       " 'lesswire ag',\n",
       " 'leviton manufacturing co., inc.',\n",
       " 'lexmark international inc.',\n",
       " 'lexmark international, inc.',\n",
       " 'lg electronics',\n",
       " 'lg electronics (mobile communications)',\n",
       " 'lg electronics inc',\n",
       " 'lg innotek',\n",
       " 'libratone a/s',\n",
       " 'libre wireless technologies inc.',\n",
       " 'lifetron co.,ltd',\n",
       " 'lifi labs management pty ltd',\n",
       " 'lightwaverf technology ltd',\n",
       " 'linksprite technologies, inc.',\n",
       " 'lintech gmbh',\n",
       " 'liteon technology corporation',\n",
       " 'loewe opta gmbh',\n",
       " 'logitech',\n",
       " 'loopcomm technology, inc.',\n",
       " 'lorex technology inc.',\n",
       " 'loxone electronics gmbh',\n",
       " 'lsd science and technology co.,ltd.',\n",
       " 'lt security inc',\n",
       " 'lutron electronics co., inc.',\n",
       " 'luxshare precision industry company limited',\n",
       " 'luxul',\n",
       " 'magic control technology corporation',\n",
       " 'magicjack lp',\n",
       " 'makerbot industries',\n",
       " 'marusys',\n",
       " 'matsushita electronic components (europe) gmbh',\n",
       " 'mega system technologies, inc.',\n",
       " 'metrohm ag',\n",
       " \"micro-star int'l co, ltd\",\n",
       " \"micro-star int'l co., ltd\",\n",
       " \"micro-star int'l co.,ltd\",\n",
       " 'micro-star intl co., ltd.',\n",
       " 'microchip technology inc.',\n",
       " 'microsoft',\n",
       " 'microsoft corporation',\n",
       " 'midea group co., ltd.',\n",
       " 'miele & cie. kg',\n",
       " 'mitac international corp.',\n",
       " 'mitel corporation',\n",
       " 'mitrastar technology corp.',\n",
       " 'mitsumi electric co.,ltd.',\n",
       " 'motorola (wuhan) mobility technologies communication co., ltd.',\n",
       " 'motorola mobility llc, a lenovo company',\n",
       " 'moxa technologies corp., ltd.',\n",
       " 'multitech systems, inc.',\n",
       " 'murata manufacturing co., ltd.',\n",
       " 'mxchip company limited',\n",
       " 'naray information & communication enterprise',\n",
       " 'navetas energy management',\n",
       " 'nest labs inc.',\n",
       " 'netatmo',\n",
       " 'netbotz, inc.',\n",
       " 'netgear',\n",
       " 'netgem',\n",
       " 'nettalk.com, inc.',\n",
       " 'newport media inc.',\n",
       " 'night owl sp',\n",
       " 'nintendo co., ltd.',\n",
       " 'nintendo co.,ltd',\n",
       " 'noon technology co., ltd',\n",
       " 'nova electronics (shanghai) co., ltd.',\n",
       " 'novell, inc.',\n",
       " 'nuvo technologies llc',\n",
       " 'nuvyyo inc',\n",
       " 'nvidia',\n",
       " 'obihai technology, inc.',\n",
       " 'oculus vr, llc',\n",
       " 'oj-electronics a/s',\n",
       " 'oki electric industry co., ltd',\n",
       " 'oneplus tech (shenzhen) ltd',\n",
       " 'oneplus technology (shenzhen) co., ltd',\n",
       " 'onkyo corporation',\n",
       " 'ooma, inc.',\n",
       " 'orbit irrigation',\n",
       " 'osram gmbh',\n",
       " 'overkiz',\n",
       " 'pakedge device and software inc.',\n",
       " 'palm, inc',\n",
       " 'panasonic appliances company',\n",
       " 'panasonic communications co., ltd.',\n",
       " 'panasonic corporation avc networks company',\n",
       " 'paragon technologies inc.',\n",
       " 'parrot sa',\n",
       " 'part ii research, inc.',\n",
       " 'pc partner ltd.',\n",
       " 'pcs systemtechnik gmbh',\n",
       " 'pegatron corporation',\n",
       " 'philips electronics nederland bv',\n",
       " 'philips lighting bv',\n",
       " 'phoebe micro inc.',\n",
       " 'phorus',\n",
       " 'physical graph corporation',\n",
       " 'pioneer corporation',\n",
       " 'pitronot technologies and engineering p.t.e. ltd.',\n",
       " 'pittasoft',\n",
       " 'plume design inc',\n",
       " 'plus  corporation',\n",
       " 'polycom',\n",
       " 'powerlinq co., ltd',\n",
       " 'private',\n",
       " 'procurve networking by hp',\n",
       " 'promise technology, inc.',\n",
       " 'pronet gmbh',\n",
       " 'qnap systems, inc.',\n",
       " 'quadrant components inc. ltd',\n",
       " 'quanta computer inc.',\n",
       " 'quanta microsystems,inc.',\n",
       " 'quatius limited',\n",
       " 'rain bird corporation',\n",
       " 'rainforest automation, inc.',\n",
       " 'ralink technology, corp.',\n",
       " 'raspberry pi foundation',\n",
       " 'rc computer a/s',\n",
       " 'realtek semiconductor corp.',\n",
       " 'redpine signals, inc.',\n",
       " 'resol elektronische regelungen gmbh',\n",
       " 'ricoh company,ltd.',\n",
       " 'ring solutions',\n",
       " 'risco ltd',\n",
       " 'rivet networks',\n",
       " 'robert bosch gmbh',\n",
       " 'roku, inc',\n",
       " 'roku, inc.',\n",
       " 'routerboard.com',\n",
       " 'roving networks',\n",
       " 'rtx telecom a/s',\n",
       " 'ruckus wireless',\n",
       " 'sagemcom broadband sas',\n",
       " 'saijo denki international co., ltd.',\n",
       " 'salcomp (shenzhen) co., ltd.',\n",
       " 'samjin co., ltd.',\n",
       " 'samsung electro mechanics co., ltd.',\n",
       " 'samsung electro-mechanics(thailand)',\n",
       " 'samsung electronics',\n",
       " 'samsung electronics co., ltd.',\n",
       " 'samsung electronics co.,ltd',\n",
       " 'savant systems llc',\n",
       " 'schneider electric japan holdings ltd.',\n",
       " 'securifi ltd',\n",
       " 'securitas direct ab',\n",
       " 'segate technology llc',\n",
       " 'seiko epson corporation',\n",
       " 'select comfort',\n",
       " 'senao international co., ltd.',\n",
       " 'senao networks, inc.',\n",
       " 'sensorist aps',\n",
       " 'sercomm corporation.',\n",
       " 'shanghai high-flying electronics technology co., ltd',\n",
       " 'shanghai mxchip information technology co., ltd.',\n",
       " 'shanghai xiaoyi technology co., ltd.',\n",
       " 'shenzhen baichuan digital technology co., ltd.',\n",
       " 'shenzhen bilian electronic co.,ltd',\n",
       " 'shenzhen bilian electronic co.，ltd',\n",
       " 'shenzhen chuangwei-rgb electronics co.,ltd',\n",
       " 'shenzhen cultraview digital technology co.,ltd shanghai branch',\n",
       " 'shenzhen cyx technology co., ltd.',\n",
       " 'shenzhen forcelink electronic co, ltd',\n",
       " 'shenzhen four seas global link network technology co., ltd.',\n",
       " 'shenzhen fuzhi software technology co.,ltd',\n",
       " 'shenzhen g-link digital technology co., ltd.',\n",
       " 'shenzhen geniatech inc, ltd',\n",
       " 'shenzhen gongjin electronics co.,lt',\n",
       " 'shenzhen huapu digital co.,ltd',\n",
       " 'shenzhen maxtang computer co.,ltd',\n",
       " 'shenzhen ogemray technology co., ltd.',\n",
       " 'shenzhen ogemray technology co.,ltd',\n",
       " 'shenzhen reecam tech.ltd.',\n",
       " 'shenzhen rf technology co., ltd',\n",
       " 'shenzhen rf-link technology co.,ltd.',\n",
       " 'shenzhen shiningworth technology co., ltd.',\n",
       " 'shenzhen smarteye digital electronics co., ltd',\n",
       " 'shenzhen tcl new technology co., ltd',\n",
       " 'shenzhen tinno mobile technology corp.',\n",
       " 'shenzhen tong bo wei technology co.,ltd',\n",
       " 'shenzhen xunlong software co.,limited',\n",
       " 'shenzhen zhibotong electronics co.,ltd',\n",
       " 'shenzhen zowee technology co., ltd',\n",
       " 'sichuan changhong electric ltd.',\n",
       " 'siemens ag',\n",
       " 'siemens ag a&d et',\n",
       " 'siemens switzerland ltd., i b t hvp',\n",
       " 'sifrom inc.',\n",
       " 'sigma designs, inc.',\n",
       " 'silex technology, inc.',\n",
       " 'silicondust engineering ltd',\n",
       " 'siliconware precision industries co., ltd.',\n",
       " 'sky light digital limited',\n",
       " 'skybell, inc',\n",
       " 'slim devices, inc.',\n",
       " 'sling media, inc.',\n",
       " 'sma regelsysteme gmbh',\n",
       " 'smart innovation llc',\n",
       " 'smarthome',\n",
       " 'smartthings, inc.',\n",
       " 'snap av',\n",
       " 'solaredge technologies',\n",
       " 'somfy-protect by myfox sas',\n",
       " 'sonicwall',\n",
       " 'sonos, inc.',\n",
       " 'sony corporation',\n",
       " 'sony interactive entertainment inc.',\n",
       " 'sony mobile communications inc',\n",
       " 'sony visual products inc.',\n",
       " 'speco technologies',\n",
       " 'star micronics co.,ltd.',\n",
       " 'streamunlimited engineering gmbh',\n",
       " 'suga electronics limited',\n",
       " 'sunpower corp',\n",
       " 'super micro computer, inc.',\n",
       " 'sur-gard security',\n",
       " 'swann communications pty ltd',\n",
       " 'swissvoice ltd.',\n",
       " 'sychip inc.',\n",
       " 'synology incorporated',\n",
       " 'tac ab',\n",
       " 'tado gmbh',\n",
       " 'taicang t&w electronics',\n",
       " 'taifatech inc.',\n",
       " 'taiyo yuden co., ltd.',\n",
       " 'taiyo yuden co.,ltd',\n",
       " 'tatung technology inc.',\n",
       " 'tcl king electrical appliances (huizhou) co., ltd',\n",
       " 'tcl technoly electronics (huizhou) co., ltd.',\n",
       " 'tct mobile ltd',\n",
       " 'technicolor ch usa inc.',\n",
       " 'technisat digital gmbh daun',\n",
       " 'telebit communications aps',\n",
       " 'telecomunication technologies ltd.',\n",
       " 'telldus technologies ab',\n",
       " 'tercel technology co.,ltd',\n",
       " 'texas instruments',\n",
       " 'the chamberlain group, inc',\n",
       " 'thecus technology corp.',\n",
       " 'thomson inc.',\n",
       " 'throughtek co., ltd.',\n",
       " 'tianjin henxinhuifeng technology co.,ltd.',\n",
       " 'tivo',\n",
       " 'top victory electronics (taiwan) co., ltd.',\n",
       " 'topwell international holdinds limited',\n",
       " 'tp vision belgium nv',\n",
       " 'tp-link technologies co.,ltd.',\n",
       " 'trendnet, inc.',\n",
       " 'tvlogic',\n",
       " 'tvt co.,ltd',\n",
       " 'u-blox ag',\n",
       " 'u10 networks, inc.',\n",
       " 'ubiquiti networks inc.',\n",
       " 'uec commercial',\n",
       " 'unikey technologies',\n",
       " 'universal devices inc.',\n",
       " 'universal global scientific industrial co., ltd.',\n",
       " 'universal remote control, inc.',\n",
       " 'valve corporation',\n",
       " 'vantage controls',\n",
       " 'ventilation control',\n",
       " 'verizon business',\n",
       " 'vestel elektronik san ve tic. a.ş.',\n",
       " 'via networking technologies, inc.',\n",
       " 'viessmann elektronik gmbh',\n",
       " 'vivo mobile communication co., ltd.',\n",
       " 'vivotek, inc.',\n",
       " 'vizio, inc',\n",
       " 'vmware, inc.',\n",
       " 'western digital',\n",
       " 'western digital corporation',\n",
       " 'western digital technologies, inc.',\n",
       " 'white rodgers division',\n",
       " 'wi2wi, inc',\n",
       " 'wibrain',\n",
       " 'winstars technology ltd',\n",
       " 'winsystems, inc.',\n",
       " 'wisol',\n",
       " 'wistron (chongqing)',\n",
       " 'wistron infocomm (zhongshan) corporation',\n",
       " 'wistron neweb corporation',\n",
       " 'withings',\n",
       " 'xalted networks',\n",
       " 'xerox corporation',\n",
       " 'xiamen yealink network technology co.,ltd',\n",
       " 'xiaomi communications co ltd',\n",
       " 'xiaomi electronics,co.,ltd',\n",
       " 'yamaha corporation',\n",
       " 'yealink(xiamen) network technology co.,ltd.',\n",
       " 'zavio inc.',\n",
       " 'zentri pty ltd',\n",
       " 'zhejiang dahua technology co., ltd.',\n",
       " 'zhejiang shenghui lighting co.,ltd',\n",
       " 'zhejiang uniview technologies co., ltd.',\n",
       " 'zhi yuan electronics co., limited',\n",
       " 'zhuhai raysharp technology co.,ltd',\n",
       " 'zioncom electronics (shenzhen) ltd.',\n",
       " 'zte corporation',\n",
       " 'zunidata systems inc.',\n",
       " 'zyxel communications corporation']"
      ]
     },
     "execution_count": 79,
     "metadata": {},
     "output_type": "execute_result"
    }
   ],
   "source": [
    "vectorizer = CountVectorizer(analyzer = 'word', token_pattern='.+')\n",
    "X_train = vectorizer.fit_transform(X_train)\n",
    "vectorizer.get_feature_names()"
   ]
  },
  {
   "cell_type": "code",
   "execution_count": 80,
   "metadata": {},
   "outputs": [
    {
     "data": {
      "text/plain": [
       "MultinomialNB()"
      ]
     },
     "execution_count": 80,
     "metadata": {},
     "output_type": "execute_result"
    }
   ],
   "source": [
    "# train\n",
    "model = MultinomialNB()\n",
    "model.fit(X_train, y_train)"
   ]
  },
  {
   "cell_type": "code",
   "execution_count": 81,
   "metadata": {},
   "outputs": [
    {
     "data": {
      "text/plain": [
       "0.5814245371823031"
      ]
     },
     "execution_count": 81,
     "metadata": {},
     "output_type": "execute_result"
    }
   ],
   "source": [
    "# test\n",
    "X_test = vectorizer.transform(X_test)\n",
    "model.score(X_test, y_test)"
   ]
  },
  {
   "cell_type": "markdown",
   "metadata": {},
   "source": [
    "Terrible Accuracy: Too many classes. Get rid of classes with less than 10 samples"
   ]
  },
  {
   "cell_type": "code",
   "execution_count": 82,
   "metadata": {},
   "outputs": [],
   "source": [
    "# get rid of classes with less than 10 samples\n",
    "# build Counter\n",
    "from collections import Counter\n",
    "class_set = Counter(feature_df['device_vendor'])\n",
    "def check_value(key):\n",
    "  return class_set[key]"
   ]
  },
  {
   "cell_type": "code",
   "execution_count": 83,
   "metadata": {},
   "outputs": [],
   "source": [
    "# get rid of classes with less than 10 samples\n",
    "act_df = feature_df[feature_df['device_vendor'].map(check_value) >= 10]"
   ]
  },
  {
   "cell_type": "code",
   "execution_count": 84,
   "metadata": {},
   "outputs": [
    {
     "data": {
      "text/plain": [
       "apple                1690\n",
       "google               1331\n",
       "amazon               1095\n",
       "samsung               555\n",
       "sonos                 490\n",
       "                     ... \n",
       "withings               10\n",
       "etekcity               10\n",
       "texas instruments      10\n",
       "google chromecast      10\n",
       "rasberry pi            10\n",
       "Name: device_vendor, Length: 176, dtype: int64"
      ]
     },
     "execution_count": 84,
     "metadata": {},
     "output_type": "execute_result"
    }
   ],
   "source": [
    "# check if successful\n",
    "act_df['device_vendor'].value_counts()"
   ]
  },
  {
   "cell_type": "code",
   "execution_count": 85,
   "metadata": {},
   "outputs": [
    {
     "data": {
      "text/html": [
       "<div>\n",
       "<style scoped>\n",
       "    .dataframe tbody tr th:only-of-type {\n",
       "        vertical-align: middle;\n",
       "    }\n",
       "\n",
       "    .dataframe tbody tr th {\n",
       "        vertical-align: top;\n",
       "    }\n",
       "\n",
       "    .dataframe thead th {\n",
       "        text-align: right;\n",
       "    }\n",
       "</style>\n",
       "<table border=\"1\" class=\"dataframe\">\n",
       "  <thead>\n",
       "    <tr style=\"text-align: right;\">\n",
       "      <th></th>\n",
       "      <th>device_id</th>\n",
       "      <th>device_name</th>\n",
       "      <th>device_type</th>\n",
       "      <th>device_vendor</th>\n",
       "      <th>device_oui</th>\n",
       "      <th>dhcp_hostname</th>\n",
       "      <th>netdisco_device_info</th>\n",
       "      <th>user_key</th>\n",
       "    </tr>\n",
       "  </thead>\n",
       "  <tbody>\n",
       "    <tr>\n",
       "      <th>0</th>\n",
       "      <td>s2f7a763479</td>\n",
       "      <td>Pixel 2</td>\n",
       "      <td>Phone</td>\n",
       "      <td>google</td>\n",
       "      <td>HTC Corporation</td>\n",
       "      <td></td>\n",
       "      <td>{}</td>\n",
       "      <td>269aa83b6b844cf11be44d6dbea28868</td>\n",
       "    </tr>\n",
       "    <tr>\n",
       "      <th>1</th>\n",
       "      <td>s069dfcecf1</td>\n",
       "      <td>ZP80</td>\n",
       "      <td>Music server</td>\n",
       "      <td>sonos</td>\n",
       "      <td>Sonos, Inc.</td>\n",
       "      <td></td>\n",
       "      <td>{'ssdp_description': 'http://192.168.1.106:140...</td>\n",
       "      <td>121d5ed5e06b42f68bc2e621e76aa1f3</td>\n",
       "    </tr>\n",
       "    <tr>\n",
       "      <th>3</th>\n",
       "      <td>scbc253fdbc</td>\n",
       "      <td>DB2BCD</td>\n",
       "      <td>Irrigation controller</td>\n",
       "      <td>rachio</td>\n",
       "      <td>AzureWave Technology Inc.</td>\n",
       "      <td></td>\n",
       "      <td>{}</td>\n",
       "      <td>121d5ed5e06b42f68bc2e621e76aa1f3</td>\n",
       "    </tr>\n",
       "    <tr>\n",
       "      <th>4</th>\n",
       "      <td>s0e81252086</td>\n",
       "      <td>Laserjet P1102W</td>\n",
       "      <td>Printer</td>\n",
       "      <td>hp</td>\n",
       "      <td>Hon Hai Precision Ind. Co.,Ltd.</td>\n",
       "      <td></td>\n",
       "      <td>{}</td>\n",
       "      <td>121d5ed5e06b42f68bc2e621e76aa1f3</td>\n",
       "    </tr>\n",
       "    <tr>\n",
       "      <th>5</th>\n",
       "      <td>s53728fe968</td>\n",
       "      <td>Koogeek Switch</td>\n",
       "      <td>Smart Plug</td>\n",
       "      <td>koogeek</td>\n",
       "      <td>China Dragon Technology Limited</td>\n",
       "      <td></td>\n",
       "      <td>{'name': 'Koogeek-P1-77519D', 'hostname': 'hap...</td>\n",
       "      <td>d0e65960db07486ef774ec9de2739470</td>\n",
       "    </tr>\n",
       "  </tbody>\n",
       "</table>\n",
       "</div>"
      ],
      "text/plain": [
       "     device_id      device_name            device_type device_vendor  \\\n",
       "0  s2f7a763479          Pixel 2                  Phone        google   \n",
       "1  s069dfcecf1             ZP80           Music server         sonos   \n",
       "3  scbc253fdbc           DB2BCD  Irrigation controller        rachio   \n",
       "4  s0e81252086  Laserjet P1102W                Printer            hp   \n",
       "5  s53728fe968   Koogeek Switch             Smart Plug       koogeek   \n",
       "\n",
       "                        device_oui dhcp_hostname  \\\n",
       "0                  HTC Corporation                 \n",
       "1                      Sonos, Inc.                 \n",
       "3        AzureWave Technology Inc.                 \n",
       "4  Hon Hai Precision Ind. Co.,Ltd.                 \n",
       "5  China Dragon Technology Limited                 \n",
       "\n",
       "                                netdisco_device_info  \\\n",
       "0                                                 {}   \n",
       "1  {'ssdp_description': 'http://192.168.1.106:140...   \n",
       "3                                                 {}   \n",
       "4                                                 {}   \n",
       "5  {'name': 'Koogeek-P1-77519D', 'hostname': 'hap...   \n",
       "\n",
       "                           user_key  \n",
       "0  269aa83b6b844cf11be44d6dbea28868  \n",
       "1  121d5ed5e06b42f68bc2e621e76aa1f3  \n",
       "3  121d5ed5e06b42f68bc2e621e76aa1f3  \n",
       "4  121d5ed5e06b42f68bc2e621e76aa1f3  \n",
       "5  d0e65960db07486ef774ec9de2739470  "
      ]
     },
     "execution_count": 85,
     "metadata": {},
     "output_type": "execute_result"
    }
   ],
   "source": [
    "act_df.head(5)"
   ]
  },
  {
   "cell_type": "code",
   "execution_count": 86,
   "metadata": {},
   "outputs": [],
   "source": [
    "# try again\n",
    "X = np.array(act_df['device_oui'])\n",
    "y = np.array(act_df['device_vendor'])\n",
    "X_train, X_test, y_train, y_test = train_test_split(X, y, test_size=0.2)"
   ]
  },
  {
   "cell_type": "code",
   "execution_count": 87,
   "metadata": {},
   "outputs": [
    {
     "name": "stderr",
     "output_type": "stream",
     "text": [
      "C:\\Users\\willi\\anaconda3\\lib\\site-packages\\sklearn\\utils\\deprecation.py:87: FutureWarning: Function get_feature_names is deprecated; get_feature_names is deprecated in 1.0 and will be removed in 1.2. Please use get_feature_names_out instead.\n",
      "  warnings.warn(msg, category=FutureWarning)\n"
     ]
    },
    {
     "data": {
      "text/plain": [
       "['abocom',\n",
       " 'action star enterprise co., ltd.',\n",
       " 'ademco',\n",
       " 'alertme.com limited',\n",
       " 'alpha networks inc.',\n",
       " 'amazon technologies inc.',\n",
       " 'amcrest technologies',\n",
       " 'american power conversion corp',\n",
       " 'ampak technology, inc.',\n",
       " 'apc by schneider electric',\n",
       " 'apple, inc.',\n",
       " 'arcadyan corporation',\n",
       " 'arcadyan technology corporation',\n",
       " 'arris group, inc.',\n",
       " 'asix electronics corp.',\n",
       " 'askey computer corp',\n",
       " 'asrock incorporation',\n",
       " 'asustek computer inc.',\n",
       " 'atheros communications, inc.',\n",
       " 'avm audiovisuelles marketing und computersysteme gmbh',\n",
       " 'avm gmbh',\n",
       " 'axis communications ab',\n",
       " 'azurewave technology inc.',\n",
       " 'b-link electronic limited',\n",
       " 'beijing xiaomi electronics co., ltd.',\n",
       " 'belkin international inc.',\n",
       " 'binatone electronics international, ltd',\n",
       " 'bizlink (kunshan) co.,ltd',\n",
       " 'bose corporation',\n",
       " 'broadlink pty ltd',\n",
       " 'brother industries, ltd.',\n",
       " 'bskyb ltd',\n",
       " 'canary connect, inc.',\n",
       " 'canon inc.',\n",
       " 'chameleon technology (uk) limited',\n",
       " 'chicony electronics co., ltd.',\n",
       " 'china dragon technology limited',\n",
       " 'cisco meraki',\n",
       " 'cisco spvtg',\n",
       " 'cisco systems, inc',\n",
       " 'cisco-linksys, llc',\n",
       " 'cloud network technology (samoa) limited',\n",
       " 'compal information (kunshan) co., ltd.',\n",
       " 'compex systems pte ltd',\n",
       " 'cybertan technology inc.',\n",
       " 'd&m holdings inc.',\n",
       " 'd-link corporation',\n",
       " 'd-link international',\n",
       " 'data robotics, incorporated',\n",
       " 'datawire communication networks inc.',\n",
       " 'dell inc.',\n",
       " 'delta electronics',\n",
       " 'devolo ag',\n",
       " 'digiboard',\n",
       " 'dropcam',\n",
       " 'dyson limited',\n",
       " 'echostar global b.v.',\n",
       " 'eco plugs enterprise co., ltd',\n",
       " 'ecobee inc',\n",
       " 'edimax technology co. ltd.',\n",
       " 'edup international (hk) co., ltd',\n",
       " 'eero inc.',\n",
       " 'electric imp, incorporated',\n",
       " 'electronic solutions, inc.',\n",
       " 'elitegroup computer systems co., ltd',\n",
       " 'elitegroup computer systems co.,ltd.',\n",
       " 'epigram, inc.',\n",
       " 'espressif inc.',\n",
       " 'everspring industry co., ltd.',\n",
       " 'evga corporation',\n",
       " 'flextronics international',\n",
       " 'fn-link technology limited',\n",
       " 'forgetbox',\n",
       " 'foxconn',\n",
       " 'fuji-xerox co. ltd.',\n",
       " 'funai electric co., ltd.',\n",
       " 'g-pro computer',\n",
       " 'gainspan corp.',\n",
       " 'gemtek technology co., ltd.',\n",
       " 'giga-byte technology co.,ltd.',\n",
       " 'good way ind. co., ltd.',\n",
       " 'google, inc.',\n",
       " 'grandstream networks, inc.',\n",
       " 'grid connect inc.',\n",
       " 'hangzhou gubei electronics technology co.,ltd',\n",
       " 'hangzhou hikvision digital technology co.,ltd.',\n",
       " 'hewlett packard',\n",
       " 'hewlett packard enterprise',\n",
       " 'hitron technology, inc.',\n",
       " 'hon hai precision ind. co., ltd.',\n",
       " 'hon hai precision ind. co.,ltd.',\n",
       " 'honeywell hommed',\n",
       " 'hongkong yunlink technology limited',\n",
       " 'hpn supply chain',\n",
       " 'htc corporation',\n",
       " 'huawei technologies co.,ltd',\n",
       " 'hui zhou gaoshengda technology co.,ltd',\n",
       " 'humax co., ltd.',\n",
       " 'icp electronics inc.',\n",
       " 'idevices, llc',\n",
       " 'ieee registration authority',\n",
       " 'intel corporate',\n",
       " 'inventec corporation',\n",
       " 'irobot corporation',\n",
       " 'ismart alarm, inc.',\n",
       " 'ittim technologies',\n",
       " 'kingjon digital technology co.,ltd',\n",
       " 'leedarson lighting co., ltd.',\n",
       " 'legra systems, inc.',\n",
       " 'lenovo (beijing) co., ltd.',\n",
       " 'lenovo mobile communication technology ltd.',\n",
       " 'leviton manufacturing co., inc.',\n",
       " 'lg electronics',\n",
       " 'lg electronics (mobile communications)',\n",
       " 'lg electronics inc',\n",
       " 'lg innotek',\n",
       " 'lifetron co.,ltd',\n",
       " 'lifi labs management pty ltd',\n",
       " 'linksprite technologies, inc.',\n",
       " 'liteon technology corporation',\n",
       " 'logitech',\n",
       " 'lsd science and technology co.,ltd.',\n",
       " 'lt security inc',\n",
       " 'lutron electronics co., inc.',\n",
       " 'luxshare precision industry company limited',\n",
       " 'magic control technology corporation',\n",
       " 'mega system technologies, inc.',\n",
       " \"micro-star int'l co, ltd\",\n",
       " \"micro-star int'l co., ltd\",\n",
       " \"micro-star int'l co.,ltd\",\n",
       " 'micro-star intl co., ltd.',\n",
       " 'microsoft',\n",
       " 'microsoft corporation',\n",
       " 'mitsumi electric co.,ltd.',\n",
       " 'motorola (wuhan) mobility technologies communication co., ltd.',\n",
       " 'motorola mobility llc, a lenovo company',\n",
       " 'murata manufacturing co., ltd.',\n",
       " 'nest labs inc.',\n",
       " 'netatmo',\n",
       " 'netgear',\n",
       " 'nintendo co., ltd.',\n",
       " 'nintendo co.,ltd',\n",
       " 'nova electronics (shanghai) co., ltd.',\n",
       " 'nuvo technologies llc',\n",
       " 'nvidia',\n",
       " 'obihai technology, inc.',\n",
       " 'oj-electronics a/s',\n",
       " 'oneplus tech (shenzhen) ltd',\n",
       " 'oneplus technology (shenzhen) co., ltd',\n",
       " 'onkyo corporation',\n",
       " 'ooma, inc.',\n",
       " 'orbit irrigation',\n",
       " 'panasonic appliances company',\n",
       " 'panasonic communications co., ltd.',\n",
       " 'panasonic corporation avc networks company',\n",
       " 'parrot sa',\n",
       " 'pc partner ltd.',\n",
       " 'pcs systemtechnik gmbh',\n",
       " 'pegatron corporation',\n",
       " 'philips electronics nederland bv',\n",
       " 'philips lighting bv',\n",
       " 'phorus',\n",
       " 'physical graph corporation',\n",
       " 'pioneer corporation',\n",
       " 'plume design inc',\n",
       " 'polycom',\n",
       " 'private',\n",
       " 'qnap systems, inc.',\n",
       " 'quanta computer inc.',\n",
       " 'ralink technology, corp.',\n",
       " 'raspberry pi foundation',\n",
       " 'rc computer a/s',\n",
       " 'realtek semiconductor corp.',\n",
       " 'redpine signals, inc.',\n",
       " 'ring solutions',\n",
       " 'rivet networks',\n",
       " 'roku, inc',\n",
       " 'roku, inc.',\n",
       " 'sagemcom broadband sas',\n",
       " 'salcomp (shenzhen) co., ltd.',\n",
       " 'samjin co., ltd.',\n",
       " 'samsung electro mechanics co., ltd.',\n",
       " 'samsung electro-mechanics(thailand)',\n",
       " 'samsung electronics',\n",
       " 'samsung electronics co., ltd.',\n",
       " 'samsung electronics co.,ltd',\n",
       " 'seiko epson corporation',\n",
       " 'select comfort',\n",
       " 'sercomm corporation.',\n",
       " 'shanghai high-flying electronics technology co., ltd',\n",
       " 'shanghai xiaoyi technology co., ltd.',\n",
       " 'shenzhen baichuan digital technology co., ltd.',\n",
       " 'shenzhen bilian electronic co.,ltd',\n",
       " 'shenzhen bilian electronic co.，ltd',\n",
       " 'shenzhen fuzhi software technology co.,ltd',\n",
       " 'shenzhen ogemray technology co., ltd.',\n",
       " 'shenzhen reecam tech.ltd.',\n",
       " 'shenzhen rf technology co., ltd',\n",
       " 'shenzhen rf-link technology co.,ltd.',\n",
       " 'shenzhen smarteye digital electronics co., ltd',\n",
       " 'shenzhen tcl new technology co., ltd',\n",
       " 'shenzhen tong bo wei technology co.,ltd',\n",
       " 'shenzhen zhibotong electronics co.,ltd',\n",
       " 'shenzhen zowee technology co., ltd',\n",
       " 'sichuan changhong electric ltd.',\n",
       " 'sifrom inc.',\n",
       " 'silex technology, inc.',\n",
       " 'silicondust engineering ltd',\n",
       " 'slim devices, inc.',\n",
       " 'smart innovation llc',\n",
       " 'smarthome',\n",
       " 'smartthings, inc.',\n",
       " 'solaredge technologies',\n",
       " 'sonos, inc.',\n",
       " 'sony corporation',\n",
       " 'sony interactive entertainment inc.',\n",
       " 'sony mobile communications inc',\n",
       " 'sony visual products inc.',\n",
       " 'streamunlimited engineering gmbh',\n",
       " 'sunrich technology limited',\n",
       " 'synology incorporated',\n",
       " 'tado gmbh',\n",
       " 'taicang t&w electronics',\n",
       " 'taiyo yuden co., ltd.',\n",
       " 'tatung technology inc.',\n",
       " 'tcl king electrical appliances (huizhou) co., ltd',\n",
       " 'tcl technoly electronics (huizhou) co., ltd.',\n",
       " 'technicolor ch usa inc.',\n",
       " 'telebit communications aps',\n",
       " 'tercel technology co.,ltd',\n",
       " 'texas instruments',\n",
       " 'the chamberlain group, inc',\n",
       " 'thomson inc.',\n",
       " 'tianjin henxinhuifeng technology co.,ltd.',\n",
       " 'tivo',\n",
       " 'tokyo electric co.,ltd',\n",
       " 'top victory electronics (taiwan) co., ltd.',\n",
       " 'tp vision belgium nv',\n",
       " 'tp-link technologies co.,ltd.',\n",
       " 'trendnet, inc.',\n",
       " 'twinhan technology co.,ltd',\n",
       " 'ubiquiti networks inc.',\n",
       " 'uec commercial',\n",
       " 'universal global scientific industrial co., ltd.',\n",
       " 'via networking technologies, inc.',\n",
       " 'vivotek, inc.',\n",
       " 'vizio, inc',\n",
       " 'vmware, inc.',\n",
       " 'western digital',\n",
       " 'western digital corporation',\n",
       " 'western digital technologies, inc.',\n",
       " 'white rodgers division',\n",
       " 'wi2wi, inc',\n",
       " 'winsystems, inc.',\n",
       " 'wisol',\n",
       " 'wistron infocomm (zhongshan) corporation',\n",
       " 'wistron neweb corporation',\n",
       " 'withings',\n",
       " 'xerox corporation',\n",
       " 'xiaomi communications co ltd',\n",
       " 'xiaomi electronics,co.,ltd',\n",
       " 'yamaha corporation',\n",
       " 'zhejiang dahua technology co., ltd.',\n",
       " 'zhejiang shenghui lighting co.,ltd',\n",
       " 'zioncom electronics (shenzhen) ltd.',\n",
       " 'zmodo technology corporation']"
      ]
     },
     "execution_count": 87,
     "metadata": {},
     "output_type": "execute_result"
    }
   ],
   "source": [
    "vectorizer = CountVectorizer(analyzer = 'word', token_pattern='.+')\n",
    "X_train = vectorizer.fit_transform(X_train)\n",
    "vectorizer.get_feature_names()"
   ]
  },
  {
   "cell_type": "code",
   "execution_count": 88,
   "metadata": {},
   "outputs": [
    {
     "data": {
      "text/plain": [
       "0.6956521739130435"
      ]
     },
     "execution_count": 88,
     "metadata": {},
     "output_type": "execute_result"
    }
   ],
   "source": [
    "# train\n",
    "model = MultinomialNB()\n",
    "model.fit(X_train, y_train)\n",
    "# test\n",
    "X_test = vectorizer.transform(X_test)\n",
    "model.score(X_test, y_test)"
   ]
  },
  {
   "cell_type": "code",
   "execution_count": 89,
   "metadata": {},
   "outputs": [],
   "source": [
    "from sklearn.metrics import confusion_matrix\n",
    "from pycm import *"
   ]
  },
  {
   "cell_type": "code",
   "execution_count": 100,
   "metadata": {},
   "outputs": [
    {
     "data": {
      "text/plain": [
       "{'Status': True,\n",
       " 'Message': 'c:\\\\Users\\\\willi\\\\Desktop\\\\iot-inspector\\\\device-identification\\\\testing\\\\CM_OUI_FEATURE.html'}"
      ]
     },
     "execution_count": 100,
     "metadata": {},
     "output_type": "execute_result"
    }
   ],
   "source": [
    "# plot Confusion Matrix\n",
    "cm = ConfusionMatrix(actual_vector=y_test, predict_vector=model.predict(X_test), is_imbalanced=True)\n",
    "cm.save_html('CM_OUI_FEATURE', normalize=True)"
   ]
  },
  {
   "cell_type": "markdown",
   "metadata": {},
   "source": [
    "Danny specifically exclude Apple Inc. labels to focus on IoT devices\n",
    "\n",
    "\n",
    "Conclusion: Focus on the 9534 samples within the clean label df"
   ]
  },
  {
   "cell_type": "code",
   "execution_count": 101,
   "metadata": {},
   "outputs": [
    {
     "data": {
      "text/plain": [
       "0.7829050865233351"
      ]
     },
     "execution_count": 101,
     "metadata": {},
     "output_type": "execute_result"
    }
   ],
   "source": [
    "# merge feature and label dfs\n",
    "act_df = pd.merge(feature_df, labels_df, how='inner', on=['device_id'])\n",
    "# create X and y \n",
    "X = np.array(act_df['device_oui'])\n",
    "y = np.array(act_df['device_vendor_y'])\n",
    "# split\n",
    "X_train, X_test, y_train, y_test = train_test_split(X, y, test_size=0.2)\n",
    "# bag of words\n",
    "vectorizer = CountVectorizer(analyzer = 'word', token_pattern='.+')\n",
    "X_train = vectorizer.fit_transform(X_train)\n",
    "# train\n",
    "model = MultinomialNB()\n",
    "model.fit(X_train, y_train)\n",
    "# test\n",
    "X_test = vectorizer.transform(X_test)\n",
    "model.score(X_test, y_test)"
   ]
  },
  {
   "cell_type": "code",
   "execution_count": 102,
   "metadata": {},
   "outputs": [
    {
     "data": {
      "text/plain": [
       "{'Status': True,\n",
       " 'Message': 'c:\\\\Users\\\\willi\\\\Desktop\\\\iot-inspector\\\\device-identification\\\\testing\\\\CM_OUI_CLEAN.html'}"
      ]
     },
     "execution_count": 102,
     "metadata": {},
     "output_type": "execute_result"
    }
   ],
   "source": [
    "# plot Confusion Matrix\n",
    "cm = ConfusionMatrix(actual_vector=y_test, predict_vector=model.predict(X_test), is_imbalanced=True)\n",
    "cm.save_html('CM_OUI_CLEAN', normalize=True)"
   ]
  },
  {
   "cell_type": "code",
   "execution_count": 110,
   "metadata": {},
   "outputs": [],
   "source": [
    "# get accuracy per class\n",
    "matrix = confusion_matrix(y_test, model.predict(X_test))\n",
    "acc = matrix.diagonal()/matrix.sum(axis=1)"
   ]
  },
  {
   "cell_type": "code",
   "execution_count": 113,
   "metadata": {},
   "outputs": [
    {
     "data": {
      "text/plain": [
       "106"
      ]
     },
     "execution_count": 113,
     "metadata": {},
     "output_type": "execute_result"
    }
   ],
   "source": [
    "len(acc)"
   ]
  },
  {
   "cell_type": "code",
   "execution_count": 121,
   "metadata": {},
   "outputs": [
    {
     "data": {
      "application/vnd.plotly.v1+json": {
       "config": {
        "plotlyServerURL": "https://plot.ly"
       },
       "data": [
        {
         "alignmentgroup": "True",
         "hovertemplate": "x=%{x}<br>y=%{y}<extra></extra>",
         "legendgroup": "",
         "marker": {
          "color": "#636efa",
          "pattern": {
           "shape": ""
          }
         },
         "name": "",
         "offsetgroup": "",
         "orientation": "v",
         "showlegend": false,
         "textposition": "auto",
         "type": "bar",
         "x": [
          "amazon",
          "amcrest",
          "apc",
          "aqara",
          "arlo",
          "august",
          "avm",
          "awair",
          "axis",
          "belkin",
          "bose",
          "broadlink",
          "brother",
          "canary",
          "canon",
          "chamberlain",
          "cisco",
          "dahua",
          "denon",
          "directv",
          "dish network",
          "dyson",
          "ecobee",
          "epson",
          "eufy",
          "feit",
          "fing",
          "foscam",
          "geeni",
          "google",
          "hdhomerun",
          "hikvision",
          "honeywell",
          "hp",
          "idevices",
          "ihome",
          "ikea",
          "insignia",
          "insteon",
          "irobot",
          "koogeek",
          "lennox",
          "leviton",
          "lg",
          "lifx",
          "linksys",
          "logitech",
          "lutron",
          "magic home",
          "marantz",
          "meross",
          "molekule",
          "mysa",
          "nanoleaf",
          "netatmo",
          "netgear",
          "nintendo",
          "nvidia",
          "obihai",
          "onkyo",
          "ooma",
          "orbit",
          "panasonic",
          "philips",
          "pioneer",
          "qnap",
          "rachio",
          "reolink",
          "roku",
          "samsung",
          "sense",
          "sensibo",
          "shelly",
          "shenzhen",
          "silicondust",
          "simplisafe",
          "sky",
          "skybell",
          "sleep number",
          "smart life",
          "solaredge",
          "sonoff",
          "sonos",
          "sony",
          "synology",
          "tado",
          "tcl",
          "tesla",
          "texas instruments",
          "tivo",
          "tplink",
          "tuya",
          "ubiquity",
          "unknown",
          "vera",
          "vizio",
          "vmware",
          "vocolinc",
          "western digital",
          "wink",
          "withings",
          "wyze",
          "xiaomi",
          "yamaha",
          "yeelight",
          "yi"
         ],
         "xaxis": "x",
         "y": [
          0.7819548872180451,
          0.8,
          0,
          0,
          0,
          0.7142857142857143,
          0,
          0,
          0,
          0.9038461538461539,
          0,
          0.8,
          0.391304347826087,
          0,
          0.9,
          0.9411764705882353,
          0.6666666666666666,
          1,
          1,
          0,
          0,
          0.8888888888888888,
          1,
          0.8888888888888888,
          0,
          0,
          0,
          0.5,
          0,
          0.9810725552050473,
          0,
          0.8571428571428571,
          0.8421052631578947,
          0.7872340425531915,
          1,
          0,
          1,
          0,
          0,
          0.5,
          1,
          0,
          1,
          0.7272727272727273,
          1,
          0,
          0.9777777777777777,
          0,
          0,
          0,
          0,
          0,
          0,
          0,
          0.7647058823529411,
          0.9411764705882353,
          0.9655172413793104,
          1,
          0,
          1,
          1,
          0,
          0.14285714285714285,
          0.9886363636363636,
          0,
          1,
          0,
          0,
          0.6304347826086957,
          0.9629629629629629,
          0,
          0,
          0,
          0,
          1,
          0,
          0,
          0,
          0,
          0,
          1,
          1,
          1,
          0.8367346938775511,
          1,
          1,
          0,
          0,
          0,
          1,
          0.8260869565217391,
          0,
          1,
          0,
          0,
          1,
          0,
          0,
          0.8571428571428571,
          0.7142857142857143,
          0,
          0.6153846153846154,
          0.8771929824561403,
          0.6363636363636364,
          0,
          0
         ],
         "yaxis": "y"
        }
       ],
       "layout": {
        "barmode": "relative",
        "legend": {
         "tracegroupgap": 0
        },
        "margin": {
         "t": 60
        },
        "template": {
         "data": {
          "bar": [
           {
            "error_x": {
             "color": "#2a3f5f"
            },
            "error_y": {
             "color": "#2a3f5f"
            },
            "marker": {
             "line": {
              "color": "#E5ECF6",
              "width": 0.5
             },
             "pattern": {
              "fillmode": "overlay",
              "size": 10,
              "solidity": 0.2
             }
            },
            "type": "bar"
           }
          ],
          "barpolar": [
           {
            "marker": {
             "line": {
              "color": "#E5ECF6",
              "width": 0.5
             },
             "pattern": {
              "fillmode": "overlay",
              "size": 10,
              "solidity": 0.2
             }
            },
            "type": "barpolar"
           }
          ],
          "carpet": [
           {
            "aaxis": {
             "endlinecolor": "#2a3f5f",
             "gridcolor": "white",
             "linecolor": "white",
             "minorgridcolor": "white",
             "startlinecolor": "#2a3f5f"
            },
            "baxis": {
             "endlinecolor": "#2a3f5f",
             "gridcolor": "white",
             "linecolor": "white",
             "minorgridcolor": "white",
             "startlinecolor": "#2a3f5f"
            },
            "type": "carpet"
           }
          ],
          "choropleth": [
           {
            "colorbar": {
             "outlinewidth": 0,
             "ticks": ""
            },
            "type": "choropleth"
           }
          ],
          "contour": [
           {
            "colorbar": {
             "outlinewidth": 0,
             "ticks": ""
            },
            "colorscale": [
             [
              0,
              "#0d0887"
             ],
             [
              0.1111111111111111,
              "#46039f"
             ],
             [
              0.2222222222222222,
              "#7201a8"
             ],
             [
              0.3333333333333333,
              "#9c179e"
             ],
             [
              0.4444444444444444,
              "#bd3786"
             ],
             [
              0.5555555555555556,
              "#d8576b"
             ],
             [
              0.6666666666666666,
              "#ed7953"
             ],
             [
              0.7777777777777778,
              "#fb9f3a"
             ],
             [
              0.8888888888888888,
              "#fdca26"
             ],
             [
              1,
              "#f0f921"
             ]
            ],
            "type": "contour"
           }
          ],
          "contourcarpet": [
           {
            "colorbar": {
             "outlinewidth": 0,
             "ticks": ""
            },
            "type": "contourcarpet"
           }
          ],
          "heatmap": [
           {
            "colorbar": {
             "outlinewidth": 0,
             "ticks": ""
            },
            "colorscale": [
             [
              0,
              "#0d0887"
             ],
             [
              0.1111111111111111,
              "#46039f"
             ],
             [
              0.2222222222222222,
              "#7201a8"
             ],
             [
              0.3333333333333333,
              "#9c179e"
             ],
             [
              0.4444444444444444,
              "#bd3786"
             ],
             [
              0.5555555555555556,
              "#d8576b"
             ],
             [
              0.6666666666666666,
              "#ed7953"
             ],
             [
              0.7777777777777778,
              "#fb9f3a"
             ],
             [
              0.8888888888888888,
              "#fdca26"
             ],
             [
              1,
              "#f0f921"
             ]
            ],
            "type": "heatmap"
           }
          ],
          "heatmapgl": [
           {
            "colorbar": {
             "outlinewidth": 0,
             "ticks": ""
            },
            "colorscale": [
             [
              0,
              "#0d0887"
             ],
             [
              0.1111111111111111,
              "#46039f"
             ],
             [
              0.2222222222222222,
              "#7201a8"
             ],
             [
              0.3333333333333333,
              "#9c179e"
             ],
             [
              0.4444444444444444,
              "#bd3786"
             ],
             [
              0.5555555555555556,
              "#d8576b"
             ],
             [
              0.6666666666666666,
              "#ed7953"
             ],
             [
              0.7777777777777778,
              "#fb9f3a"
             ],
             [
              0.8888888888888888,
              "#fdca26"
             ],
             [
              1,
              "#f0f921"
             ]
            ],
            "type": "heatmapgl"
           }
          ],
          "histogram": [
           {
            "marker": {
             "pattern": {
              "fillmode": "overlay",
              "size": 10,
              "solidity": 0.2
             }
            },
            "type": "histogram"
           }
          ],
          "histogram2d": [
           {
            "colorbar": {
             "outlinewidth": 0,
             "ticks": ""
            },
            "colorscale": [
             [
              0,
              "#0d0887"
             ],
             [
              0.1111111111111111,
              "#46039f"
             ],
             [
              0.2222222222222222,
              "#7201a8"
             ],
             [
              0.3333333333333333,
              "#9c179e"
             ],
             [
              0.4444444444444444,
              "#bd3786"
             ],
             [
              0.5555555555555556,
              "#d8576b"
             ],
             [
              0.6666666666666666,
              "#ed7953"
             ],
             [
              0.7777777777777778,
              "#fb9f3a"
             ],
             [
              0.8888888888888888,
              "#fdca26"
             ],
             [
              1,
              "#f0f921"
             ]
            ],
            "type": "histogram2d"
           }
          ],
          "histogram2dcontour": [
           {
            "colorbar": {
             "outlinewidth": 0,
             "ticks": ""
            },
            "colorscale": [
             [
              0,
              "#0d0887"
             ],
             [
              0.1111111111111111,
              "#46039f"
             ],
             [
              0.2222222222222222,
              "#7201a8"
             ],
             [
              0.3333333333333333,
              "#9c179e"
             ],
             [
              0.4444444444444444,
              "#bd3786"
             ],
             [
              0.5555555555555556,
              "#d8576b"
             ],
             [
              0.6666666666666666,
              "#ed7953"
             ],
             [
              0.7777777777777778,
              "#fb9f3a"
             ],
             [
              0.8888888888888888,
              "#fdca26"
             ],
             [
              1,
              "#f0f921"
             ]
            ],
            "type": "histogram2dcontour"
           }
          ],
          "mesh3d": [
           {
            "colorbar": {
             "outlinewidth": 0,
             "ticks": ""
            },
            "type": "mesh3d"
           }
          ],
          "parcoords": [
           {
            "line": {
             "colorbar": {
              "outlinewidth": 0,
              "ticks": ""
             }
            },
            "type": "parcoords"
           }
          ],
          "pie": [
           {
            "automargin": true,
            "type": "pie"
           }
          ],
          "scatter": [
           {
            "fillpattern": {
             "fillmode": "overlay",
             "size": 10,
             "solidity": 0.2
            },
            "type": "scatter"
           }
          ],
          "scatter3d": [
           {
            "line": {
             "colorbar": {
              "outlinewidth": 0,
              "ticks": ""
             }
            },
            "marker": {
             "colorbar": {
              "outlinewidth": 0,
              "ticks": ""
             }
            },
            "type": "scatter3d"
           }
          ],
          "scattercarpet": [
           {
            "marker": {
             "colorbar": {
              "outlinewidth": 0,
              "ticks": ""
             }
            },
            "type": "scattercarpet"
           }
          ],
          "scattergeo": [
           {
            "marker": {
             "colorbar": {
              "outlinewidth": 0,
              "ticks": ""
             }
            },
            "type": "scattergeo"
           }
          ],
          "scattergl": [
           {
            "marker": {
             "colorbar": {
              "outlinewidth": 0,
              "ticks": ""
             }
            },
            "type": "scattergl"
           }
          ],
          "scattermapbox": [
           {
            "marker": {
             "colorbar": {
              "outlinewidth": 0,
              "ticks": ""
             }
            },
            "type": "scattermapbox"
           }
          ],
          "scatterpolar": [
           {
            "marker": {
             "colorbar": {
              "outlinewidth": 0,
              "ticks": ""
             }
            },
            "type": "scatterpolar"
           }
          ],
          "scatterpolargl": [
           {
            "marker": {
             "colorbar": {
              "outlinewidth": 0,
              "ticks": ""
             }
            },
            "type": "scatterpolargl"
           }
          ],
          "scatterternary": [
           {
            "marker": {
             "colorbar": {
              "outlinewidth": 0,
              "ticks": ""
             }
            },
            "type": "scatterternary"
           }
          ],
          "surface": [
           {
            "colorbar": {
             "outlinewidth": 0,
             "ticks": ""
            },
            "colorscale": [
             [
              0,
              "#0d0887"
             ],
             [
              0.1111111111111111,
              "#46039f"
             ],
             [
              0.2222222222222222,
              "#7201a8"
             ],
             [
              0.3333333333333333,
              "#9c179e"
             ],
             [
              0.4444444444444444,
              "#bd3786"
             ],
             [
              0.5555555555555556,
              "#d8576b"
             ],
             [
              0.6666666666666666,
              "#ed7953"
             ],
             [
              0.7777777777777778,
              "#fb9f3a"
             ],
             [
              0.8888888888888888,
              "#fdca26"
             ],
             [
              1,
              "#f0f921"
             ]
            ],
            "type": "surface"
           }
          ],
          "table": [
           {
            "cells": {
             "fill": {
              "color": "#EBF0F8"
             },
             "line": {
              "color": "white"
             }
            },
            "header": {
             "fill": {
              "color": "#C8D4E3"
             },
             "line": {
              "color": "white"
             }
            },
            "type": "table"
           }
          ]
         },
         "layout": {
          "annotationdefaults": {
           "arrowcolor": "#2a3f5f",
           "arrowhead": 0,
           "arrowwidth": 1
          },
          "autotypenumbers": "strict",
          "coloraxis": {
           "colorbar": {
            "outlinewidth": 0,
            "ticks": ""
           }
          },
          "colorscale": {
           "diverging": [
            [
             0,
             "#8e0152"
            ],
            [
             0.1,
             "#c51b7d"
            ],
            [
             0.2,
             "#de77ae"
            ],
            [
             0.3,
             "#f1b6da"
            ],
            [
             0.4,
             "#fde0ef"
            ],
            [
             0.5,
             "#f7f7f7"
            ],
            [
             0.6,
             "#e6f5d0"
            ],
            [
             0.7,
             "#b8e186"
            ],
            [
             0.8,
             "#7fbc41"
            ],
            [
             0.9,
             "#4d9221"
            ],
            [
             1,
             "#276419"
            ]
           ],
           "sequential": [
            [
             0,
             "#0d0887"
            ],
            [
             0.1111111111111111,
             "#46039f"
            ],
            [
             0.2222222222222222,
             "#7201a8"
            ],
            [
             0.3333333333333333,
             "#9c179e"
            ],
            [
             0.4444444444444444,
             "#bd3786"
            ],
            [
             0.5555555555555556,
             "#d8576b"
            ],
            [
             0.6666666666666666,
             "#ed7953"
            ],
            [
             0.7777777777777778,
             "#fb9f3a"
            ],
            [
             0.8888888888888888,
             "#fdca26"
            ],
            [
             1,
             "#f0f921"
            ]
           ],
           "sequentialminus": [
            [
             0,
             "#0d0887"
            ],
            [
             0.1111111111111111,
             "#46039f"
            ],
            [
             0.2222222222222222,
             "#7201a8"
            ],
            [
             0.3333333333333333,
             "#9c179e"
            ],
            [
             0.4444444444444444,
             "#bd3786"
            ],
            [
             0.5555555555555556,
             "#d8576b"
            ],
            [
             0.6666666666666666,
             "#ed7953"
            ],
            [
             0.7777777777777778,
             "#fb9f3a"
            ],
            [
             0.8888888888888888,
             "#fdca26"
            ],
            [
             1,
             "#f0f921"
            ]
           ]
          },
          "colorway": [
           "#636efa",
           "#EF553B",
           "#00cc96",
           "#ab63fa",
           "#FFA15A",
           "#19d3f3",
           "#FF6692",
           "#B6E880",
           "#FF97FF",
           "#FECB52"
          ],
          "font": {
           "color": "#2a3f5f"
          },
          "geo": {
           "bgcolor": "white",
           "lakecolor": "white",
           "landcolor": "#E5ECF6",
           "showlakes": true,
           "showland": true,
           "subunitcolor": "white"
          },
          "hoverlabel": {
           "align": "left"
          },
          "hovermode": "closest",
          "mapbox": {
           "style": "light"
          },
          "paper_bgcolor": "white",
          "plot_bgcolor": "#E5ECF6",
          "polar": {
           "angularaxis": {
            "gridcolor": "white",
            "linecolor": "white",
            "ticks": ""
           },
           "bgcolor": "#E5ECF6",
           "radialaxis": {
            "gridcolor": "white",
            "linecolor": "white",
            "ticks": ""
           }
          },
          "scene": {
           "xaxis": {
            "backgroundcolor": "#E5ECF6",
            "gridcolor": "white",
            "gridwidth": 2,
            "linecolor": "white",
            "showbackground": true,
            "ticks": "",
            "zerolinecolor": "white"
           },
           "yaxis": {
            "backgroundcolor": "#E5ECF6",
            "gridcolor": "white",
            "gridwidth": 2,
            "linecolor": "white",
            "showbackground": true,
            "ticks": "",
            "zerolinecolor": "white"
           },
           "zaxis": {
            "backgroundcolor": "#E5ECF6",
            "gridcolor": "white",
            "gridwidth": 2,
            "linecolor": "white",
            "showbackground": true,
            "ticks": "",
            "zerolinecolor": "white"
           }
          },
          "shapedefaults": {
           "line": {
            "color": "#2a3f5f"
           }
          },
          "ternary": {
           "aaxis": {
            "gridcolor": "white",
            "linecolor": "white",
            "ticks": ""
           },
           "baxis": {
            "gridcolor": "white",
            "linecolor": "white",
            "ticks": ""
           },
           "bgcolor": "#E5ECF6",
           "caxis": {
            "gridcolor": "white",
            "linecolor": "white",
            "ticks": ""
           }
          },
          "title": {
           "x": 0.05
          },
          "xaxis": {
           "automargin": true,
           "gridcolor": "white",
           "linecolor": "white",
           "ticks": "",
           "title": {
            "standoff": 15
           },
           "zerolinecolor": "white",
           "zerolinewidth": 2
          },
          "yaxis": {
           "automargin": true,
           "gridcolor": "white",
           "linecolor": "white",
           "ticks": "",
           "title": {
            "standoff": 15
           },
           "zerolinecolor": "white",
           "zerolinewidth": 2
          }
         }
        },
        "xaxis": {
         "anchor": "y",
         "domain": [
          0,
          1
         ],
         "title": {
          "text": "x"
         }
        },
        "yaxis": {
         "anchor": "x",
         "domain": [
          0,
          1
         ],
         "title": {
          "text": "y"
         }
        }
       }
      }
     },
     "metadata": {},
     "output_type": "display_data"
    }
   ],
   "source": [
    "# plot accuarcy per class\n",
    "import plotly.express as px\n",
    "\n",
    "px.bar(x=sorted(set(y_test)), y=acc)"
   ]
  },
  {
   "cell_type": "markdown",
   "metadata": {},
   "source": [
    "### Bag of Words Model\n",
    "* Create a bag of words model with sklearn"
   ]
  },
  {
   "cell_type": "code",
   "execution_count": null,
   "metadata": {},
   "outputs": [],
   "source": []
  }
 ],
 "metadata": {
  "interpreter": {
   "hash": "f8bbe703e4409461e5c1796f0c401e26e62f32801f1a5b19455b89c31c613fbe"
  },
  "kernelspec": {
   "display_name": "Python 3.9.7 ('base')",
   "language": "python",
   "name": "python3"
  },
  "language_info": {
   "codemirror_mode": {
    "name": "ipython",
    "version": 3
   },
   "file_extension": ".py",
   "mimetype": "text/x-python",
   "name": "python",
   "nbconvert_exporter": "python",
   "pygments_lexer": "ipython3",
   "version": "3.9.7"
  },
  "orig_nbformat": 4
 },
 "nbformat": 4,
 "nbformat_minor": 2
}
